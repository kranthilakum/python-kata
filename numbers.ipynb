{
 "cells": [
  {
   "cell_type": "code",
   "execution_count": 16,
   "id": "0ea1ed93",
   "metadata": {},
   "outputs": [
    {
     "name": "stdout",
     "output_type": "stream",
     "text": [
      "5\n",
      "15\n",
      "5\n",
      "1\n",
      "128\n",
      "125\n",
      "0b1111101\n",
      "0o175\n",
      "0x7d\n",
      "125\n",
      "125\n"
     ]
    }
   ],
   "source": [
    "# Print the absolute value of a number\n",
    "print(abs(-5))\n",
    "\n",
    "# Print the sum of a list of numbers\n",
    "print(sum([1, 2, 3, 4, 5]))\n",
    "\n",
    "# Print the maximum value in a list of numbers\n",
    "print(max([1, 2, 3, 4, 5]))\n",
    "\n",
    "# Print the minimum value in a list of numbers\n",
    "print(min([1, 2, 3, 4, 5]))\n",
    "\n",
    "# Print the square root\n",
    "print(pow(2, 7))\n",
    "\n",
    "# binary to decimal\n",
    "print(int('1111101', 2))\n",
    "\n",
    "# decimal to binary\n",
    "print(bin(125))\n",
    "\n",
    "# decimal to octal\n",
    "print(oct(125))\n",
    "\n",
    "# decimal to hexadecimal\n",
    "print(hex(125))\n",
    "\n",
    "# octal to decimal\n",
    "print(int('175', 8))\n",
    "\n",
    "# hexadecimal to decimal\n",
    "print(int('7d', 16))"
   ]
  },
  {
   "cell_type": "code",
   "execution_count": 17,
   "id": "6ba4d3d3",
   "metadata": {},
   "outputs": [
    {
     "name": "stdout",
     "output_type": "stream",
     "text": [
      "Mean of 1, 2, 3, 4, 5 is 3.0\n",
      "Median of 1, 2, 3, 4, 5 is 3\n",
      "Mode of 1, 2, 3, 4, 5 is [1, 2, 3, 4, 5]\n",
      "Variance of 1, 2, 3, 4, 5 is 2.0\n",
      "Standard deviation of 1, 2, 3, 4, 5 is 1.4142135623730951\n"
     ]
    }
   ],
   "source": [
    "def mean(*args):\n",
    "    return sum(args) / len(args)\n",
    "\n",
    "def median(*args):\n",
    "    args = sorted(args)\n",
    "    if len(args) % 2 == 0:\n",
    "        return (args[len(args) // 2] + args[len(args) // 2 - 1]) / 2\n",
    "    else:\n",
    "        return args[len(args) // 2]\n",
    "\n",
    "def mode(*args):\n",
    "    counts = {}\n",
    "    for arg in args:\n",
    "        if arg in counts:\n",
    "            counts[arg] += 1\n",
    "        else:\n",
    "            counts[arg] = 1\n",
    "    max_count = max(counts.values())\n",
    "    modes = []\n",
    "    for arg, count in counts.items():\n",
    "        if count == max_count:\n",
    "            modes.append(arg)\n",
    "    return modes\n",
    "\n",
    "def variance(*args):\n",
    "    m = mean(*args)\n",
    "    return sum([(arg - m) ** 2 for arg in args]) / len(args)\n",
    "\n",
    "def standard_deviation(*args):\n",
    "    return variance(*args) ** 0.5\n",
    "\n",
    "# mean\n",
    "print(\"Mean of 1, 2, 3, 4, 5 is\", mean(1, 2, 3, 4, 5))\n",
    "\n",
    "# median\n",
    "print(\"Median of 1, 2, 3, 4, 5 is\", median(1, 2, 3, 4, 5))\n",
    "\n",
    "# mode\n",
    "print(\"Mode of 1, 2, 3, 4, 5 is\", mode(1, 2, 3, 4, 5))\n",
    "\n",
    "# variance\n",
    "print(\"Variance of 1, 2, 3, 4, 5 is\", variance(1, 2, 3, 4, 5))\n",
    "\n",
    "# standard deviation\n",
    "print(\"Standard deviation of 1, 2, 3, 4, 5 is\", standard_deviation(1, 2, 3, 4, 5))"
   ]
  },
  {
   "cell_type": "code",
   "execution_count": 18,
   "id": "bc18443c",
   "metadata": {},
   "outputs": [
    {
     "name": "stdout",
     "output_type": "stream",
     "text": [
      "Mean of 1, 2, 3, 4, 5 is 3.0\n"
     ]
    }
   ],
   "source": [
    "import statistics\n",
    "\n",
    "# mean\n",
    "print(\"Mean of 1, 2, 3, 4, 5 is\", mean(1, 2, 3, 4, 5))"
   ]
  }
 ],
 "metadata": {
  "kernelspec": {
   "display_name": "Python 3 (ipykernel)",
   "language": "python",
   "name": "python3"
  },
  "language_info": {
   "codemirror_mode": {
    "name": "ipython",
    "version": 3
   },
   "file_extension": ".py",
   "mimetype": "text/x-python",
   "name": "python",
   "nbconvert_exporter": "python",
   "pygments_lexer": "ipython3",
   "version": "3.9.13"
  }
 },
 "nbformat": 4,
 "nbformat_minor": 5
}
