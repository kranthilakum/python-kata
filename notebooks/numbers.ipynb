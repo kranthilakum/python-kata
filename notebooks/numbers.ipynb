{
 "cells": [
  {
   "cell_type": "code",
   "execution_count": 2,
   "id": "0ea1ed93",
   "metadata": {},
   "outputs": [
    {
     "name": "stdout",
     "output_type": "stream",
     "text": [
      "5\n"
     ]
    }
   ],
   "source": [
    "# Print the absolute value of a number\n",
    "print(abs(-5))"
   ]
  },
  {
   "cell_type": "code",
   "execution_count": 4,
   "id": "867cacbb",
   "metadata": {},
   "outputs": [
    {
     "name": "stdout",
     "output_type": "stream",
     "text": [
      "15\n"
     ]
    }
   ],
   "source": [
    "# Print the sum of a list of numbers\n",
    "print(sum([1, 2, 3, 4, 5]))"
   ]
  },
  {
   "cell_type": "code",
   "execution_count": 5,
   "id": "49a7fe8f",
   "metadata": {},
   "outputs": [
    {
     "name": "stdout",
     "output_type": "stream",
     "text": [
      "5\n"
     ]
    }
   ],
   "source": [
    "# Print the maximum value in a list of numbers\n",
    "print(max([1, 2, 3, 4, 5]))"
   ]
  },
  {
   "cell_type": "code",
   "execution_count": 6,
   "id": "d52b0543",
   "metadata": {},
   "outputs": [
    {
     "name": "stdout",
     "output_type": "stream",
     "text": [
      "1\n"
     ]
    }
   ],
   "source": [
    "# Print the minimum value in a list of numbers\n",
    "print(min([1, 2, 3, 4, 5]))"
   ]
  },
  {
   "cell_type": "code",
   "execution_count": 33,
   "id": "7aa45143",
   "metadata": {},
   "outputs": [
    {
     "name": "stdout",
     "output_type": "stream",
     "text": [
      "128\n"
     ]
    }
   ],
   "source": [
    "# Print the square root\n",
    "print(pow(2, 7))"
   ]
  },
  {
   "cell_type": "code",
   "execution_count": 8,
   "id": "58ec64a3",
   "metadata": {},
   "outputs": [
    {
     "name": "stdout",
     "output_type": "stream",
     "text": [
      "125\n"
     ]
    }
   ],
   "source": [
    "# binary to decimal\n",
    "print(int('1111101', 2))"
   ]
  },
  {
   "cell_type": "code",
   "execution_count": 9,
   "id": "c5ad0be1",
   "metadata": {},
   "outputs": [
    {
     "name": "stdout",
     "output_type": "stream",
     "text": [
      "0b1111101\n"
     ]
    }
   ],
   "source": [
    "# decimal to binary\n",
    "print(bin(125))"
   ]
  },
  {
   "cell_type": "code",
   "execution_count": 10,
   "id": "a42d19e3",
   "metadata": {},
   "outputs": [
    {
     "name": "stdout",
     "output_type": "stream",
     "text": [
      "0o175\n"
     ]
    }
   ],
   "source": [
    "# decimal to octal\n",
    "print(oct(125))"
   ]
  },
  {
   "cell_type": "code",
   "execution_count": 11,
   "id": "4564040d",
   "metadata": {},
   "outputs": [
    {
     "name": "stdout",
     "output_type": "stream",
     "text": [
      "0x7d\n"
     ]
    }
   ],
   "source": [
    "# decimal to hexadecimal\n",
    "print(hex(125))"
   ]
  },
  {
   "cell_type": "code",
   "execution_count": 12,
   "id": "6df243df",
   "metadata": {},
   "outputs": [
    {
     "name": "stdout",
     "output_type": "stream",
     "text": [
      "125\n"
     ]
    }
   ],
   "source": [
    "# octal to decimal\n",
    "print(int('175', 8))"
   ]
  },
  {
   "cell_type": "code",
   "execution_count": 13,
   "id": "e143f5f4",
   "metadata": {},
   "outputs": [
    {
     "name": "stdout",
     "output_type": "stream",
     "text": [
      "125\n"
     ]
    }
   ],
   "source": [
    "# hexadecimal to decimal\n",
    "print(int('7d', 16))"
   ]
  },
  {
   "cell_type": "code",
   "execution_count": 14,
   "id": "34341787",
   "metadata": {},
   "outputs": [
    {
     "name": "stdout",
     "output_type": "stream",
     "text": [
      "Mean of 1, 2, 3, 4, 5 is 3.0\n",
      "Median of 1, 2, 3, 4, 5 is 3\n",
      "Mode of 1, 2, 3, 4, 5 is [1, 2, 3, 4, 5]\n",
      "Variance of 1, 2, 3, 4, 5 is 2.0\n",
      "Standard deviation of 1, 2, 3, 4, 5 is 1.4142135623730951\n"
     ]
    }
   ],
   "source": [
    "def mean(*args):\n",
    "    return sum(args) / len(args)\n",
    "\n",
    "def median(*args):\n",
    "    args = sorted(args)\n",
    "    if len(args) % 2 == 0:\n",
    "        return (args[len(args) // 2] + args[len(args) // 2 - 1]) / 2\n",
    "    else:\n",
    "        return args[len(args) // 2]\n",
    "\n",
    "def mode(*args):\n",
    "    counts = {}\n",
    "    for arg in args:\n",
    "        if arg in counts:\n",
    "            counts[arg] += 1\n",
    "        else:\n",
    "            counts[arg] = 1\n",
    "    max_count = max(counts.values())\n",
    "    modes = []\n",
    "    for arg, count in counts.items():\n",
    "        if count == max_count:\n",
    "            modes.append(arg)\n",
    "    return modes\n",
    "\n",
    "def variance(*args):\n",
    "    m = mean(*args)\n",
    "    return sum([(arg - m) ** 2 for arg in args]) / len(args)\n",
    "\n",
    "def standard_deviation(*args):\n",
    "    return variance(*args) ** 0.5\n",
    "\n",
    "# mean\n",
    "print(\"Mean of 1, 2, 3, 4, 5 is\", mean(1, 2, 3, 4, 5))\n",
    "\n",
    "# median\n",
    "print(\"Median of 1, 2, 3, 4, 5 is\", median(1, 2, 3, 4, 5))\n",
    "\n",
    "# mode\n",
    "print(\"Mode of 1, 2, 3, 4, 5 is\", mode(1, 2, 3, 4, 5))\n",
    "\n",
    "# variance\n",
    "print(\"Variance of 1, 2, 3, 4, 5 is\", variance(1, 2, 3, 4, 5))\n",
    "\n",
    "# standard deviation\n",
    "print(\"Standard deviation of 1, 2, 3, 4, 5 is\", standard_deviation(1, 2, 3, 4, 5))"
   ]
  },
  {
   "cell_type": "code",
   "execution_count": 32,
   "id": "53b68c5b",
   "metadata": {},
   "outputs": [
    {
     "name": "stdout",
     "output_type": "stream",
     "text": [
      "Mean of 1, 2, 3, 4, 5 is 3\n",
      "Floating-point Mean of 1, 2, 3, 4, 5 is 3.0\n",
      "Suppose a car travels 10 km at 40 km/hr, then another 10 km at 60 km/hr. What is the average speed? 48.0\n"
     ]
    }
   ],
   "source": [
    "from statistics import mean, fmean, harmonic_mean\n",
    "\n",
    "# mean\n",
    "print(\"Mean of 1, 2, 3, 4, 5 is\", mean([1, 2, 3, 4, 5]))\n",
    "\n",
    "# floating-point mean\n",
    "# Convert data to floats and compute the arithmetic mean. \n",
    "# This runs faster than the mean() function and it always returns a float.\n",
    "print(\"Floating-point Mean of 1, 2, 3, 4, 5 is\", fmean([1, 2, 3, 4, 5]))\n",
    "\n",
    "# geometric mean\n",
    "\n",
    "# harmonic mean\n",
    "print(\"Suppose a car travels 10 km at 40 km/hr, \" +\n",
    "      \"then another 10 km at 60 km/hr. What is the average speed?\", harmonic_mean([40, 60]))"
   ]
  },
  {
   "cell_type": "code",
   "execution_count": 23,
   "id": "c7bf5b40",
   "metadata": {},
   "outputs": [
    {
     "name": "stdout",
     "output_type": "stream",
     "text": [
      "Median of 1, 2, 3, 4, 5 is 3\n"
     ]
    }
   ],
   "source": [
    "# median - (middle value) of numeric data, using the common “mean of middle two” method.\n",
    "print(\"Median of 1, 2, 3, 4, 5 is\", median([1, 2, 3, 4, 5]))"
   ]
  },
  {
   "cell_type": "code",
   "execution_count": null,
   "id": "4302ccb3",
   "metadata": {},
   "outputs": [],
   "source": []
  }
 ],
 "metadata": {
  "kernelspec": {
   "display_name": "Python 3 (ipykernel)",
   "language": "python",
   "name": "python3"
  },
  "language_info": {
   "codemirror_mode": {
    "name": "ipython",
    "version": 3
   },
   "file_extension": ".py",
   "mimetype": "text/x-python",
   "name": "python",
   "nbconvert_exporter": "python",
   "pygments_lexer": "ipython3",
   "version": "3.9.13"
  }
 },
 "nbformat": 4,
 "nbformat_minor": 5
}
