{
 "cells": [
  {
   "cell_type": "code",
   "execution_count": null,
   "metadata": {},
   "outputs": [],
   "source": [
    "# https://www.kaggle.com/general/274656\n",
    "try:\n",
    "    import tensorflow as tf\n",
    "    import pandas as pd\n",
    "except:\n",
    "    %pip install pandas\n",
    "    %pip install tensorflow\n",
    "    %pip install --ignore-installed --upgrade tensorflow-gpu==1.15.0\n",
    "    import tensorflow as tf"
   ]
  },
  {
   "attachments": {},
   "cell_type": "markdown",
   "metadata": {},
   "source": [
    "### Printing\n",
    "\n",
    "In Python, we ask a computer to print a message for us by writing `print()` and putting the message inside the parentheses and enclosed in quotation marks. "
   ]
  },
  {
   "cell_type": "code",
   "execution_count": 2,
   "metadata": {},
   "outputs": [
    {
     "name": "stdout",
     "output_type": "stream",
     "text": [
      "Hello, Python\n"
     ]
    }
   ],
   "source": [
    "print(\"Hello, Python\")"
   ]
  },
  {
   "attachments": {},
   "cell_type": "markdown",
   "metadata": {},
   "source": [
    "### Arithmetic\n",
    "\n",
    "In Python, we can do arithmetic by writing the operation and the numbers we want to use. For example, we can add two numbers together by writing `+` and the numbers we want to add."
   ]
  },
  {
   "cell_type": "code",
   "execution_count": 3,
   "metadata": {},
   "outputs": [
    {
     "name": "stdout",
     "output_type": "stream",
     "text": [
      "1 + 2:  3\n",
      "9 - 2:  7\n",
      "3 * 2:  6\n",
      "3 / 2:  1.5\n",
      "3 // 2:  1\n",
      "3 ** 2:  9\n",
      "3 % 2:  1\n",
      "3 + 2 * 2:  7\n",
      "((1 + 3) * (9 - 2) / 2) ** 2:  196.0\n"
     ]
    }
   ],
   "source": [
    "print(\"1 + 2: \", 1 + 2)\n",
    "\n",
    "print(\"9 - 2: \", 9 - 2)\n",
    "\n",
    "print(\"3 * 2: \", 3 * 2)\n",
    "\n",
    "print(\"3 / 2: \", 3 / 2)\n",
    "\n",
    "print(\"3 // 2: \", 3 // 2)\n",
    "\n",
    "print(\"3 ** 2: \", 3 ** 2)\n",
    "\n",
    "print(\"3 % 2: \", 3 % 2)\n",
    "\n",
    "print(\"3 + 2 * 2: \", 3 + 2 * 2)\n",
    "\n",
    "print(\"((1 + 3) * (9 - 2) / 2) ** 2: \", ((1 + 3) * (9 - 2) / 2) ** 2)"
   ]
  },
  {
   "attachments": {},
   "cell_type": "markdown",
   "metadata": {},
   "source": [
    "### Variables\n",
    "\n",
    "In Python, we can store a value in a variable by writing the variable name and then the value we want to store. For example, we can store the number 5 in a variable called `x` by writing `x = 5`.\n",
    "\n",
    "Variable names are ideally short and descriptive. They can only include letters, numbers, and underscores (e.g., `test_var!` is not allowed). They have to start with a letter or underscore (e.g., `1_var` is not allowed). They can't have spaces (e.g., `test var` is not allowed). They are case sensitive (e.g., `test_var` and `Test_var` are different variables).\n",
    "\n",
    "Variable's scope as the part of the code where it is accessible. Variables defined inside a function have a local scope of that function only. Variables defined outside all functions have a global scope and can be accessed anywhere."
   ]
  },
  {
   "cell_type": "code",
   "execution_count": 4,
   "metadata": {},
   "outputs": [
    {
     "name": "stdout",
     "output_type": "stream",
     "text": [
      "ex_var:  1\n"
     ]
    }
   ],
   "source": [
    "# create a variable\n",
    "ex_var = 1\n",
    "\n",
    "# print the value of ex_var\n",
    "print(\"ex_var: \", ex_var)"
   ]
  },
  {
   "cell_type": "code",
   "execution_count": 6,
   "metadata": {},
   "outputs": [
    {
     "name": "stdout",
     "output_type": "stream",
     "text": [
      "original my_var:  10\n",
      "changed my_var:  20\n"
     ]
    }
   ],
   "source": [
    "my_var = 10\n",
    "\n",
    "print(\"original my_var: \", my_var)\n",
    "\n",
    "# manipulate the value of my_var\n",
    "my_var = 20\n",
    "\n",
    "print(\"changed my_var: \", my_var)"
   ]
  },
  {
   "cell_type": "code",
   "execution_count": 7,
   "metadata": {},
   "outputs": [
    {
     "name": "stdout",
     "output_type": "stream",
     "text": [
      "incremented my_var:  30\n"
     ]
    }
   ],
   "source": [
    "# increment the value of my_var\n",
    "my_var += 10\n",
    "\n",
    "print(\"incremented my_var: \", my_var)"
   ]
  },
  {
   "cell_type": "code",
   "execution_count": 10,
   "metadata": {},
   "outputs": [
    {
     "name": "stdout",
     "output_type": "stream",
     "text": [
      "126144000\n"
     ]
    }
   ],
   "source": [
    "# calculate number of seconds in four years\n",
    "\n",
    "num_years = 4\n",
    "\n",
    "# 1 year = 365 days\n",
    "days_per_year = 365\n",
    "\n",
    "# 1 day = 24 hours\n",
    "hours_per_day = 24\n",
    "\n",
    "# 1 hour = 60 minutes\n",
    "minutes_per_hour = 60\n",
    "\n",
    "# 1 minute = 60 seconds\n",
    "seconds_per_minute = 60\n",
    "\n",
    "# 4 years = 4 * 365 days\n",
    "num_days = num_years * days_per_year\n",
    "\n",
    "total_seconds = num_days * hours_per_day * minutes_per_hour * seconds_per_minute\n",
    "print(total_seconds)\n",
    "\n",
    "# Note it is possible to do this calculation without variables as just 60 * 60 * 24 * 365 * 4, \n",
    "# but it is much harder to check that the calculation without variables does not have some error, \n",
    "# because it is not as readable. \n",
    "# Use variables  keep track of each part of the calculation and more easily check for and correct any mistakes."
   ]
  },
  {
   "cell_type": "code",
   "execution_count": 11,
   "metadata": {},
   "outputs": [
    {
     "name": "stdout",
     "output_type": "stream",
     "text": [
      "360000\n"
     ]
    }
   ],
   "source": [
    "# average 250 babies born each minute\n",
    "births_per_min = 250\n",
    "\n",
    "# average number of babies born each day\n",
    "births_per_day = births_per_min * 60 * 24\n",
    "\n",
    "print(births_per_day)"
   ]
  },
  {
   "cell_type": "code",
   "execution_count": 17,
   "metadata": {},
   "outputs": [
    {
     "data": {
      "text/html": [
       "<div>\n",
       "<style scoped>\n",
       "    .dataframe tbody tr th:only-of-type {\n",
       "        vertical-align: middle;\n",
       "    }\n",
       "\n",
       "    .dataframe tbody tr th {\n",
       "        vertical-align: top;\n",
       "    }\n",
       "\n",
       "    .dataframe thead th {\n",
       "        text-align: right;\n",
       "    }\n",
       "</style>\n",
       "<table border=\"1\" class=\"dataframe\">\n",
       "  <thead>\n",
       "    <tr style=\"text-align: right;\">\n",
       "      <th></th>\n",
       "      <th>PassengerId</th>\n",
       "      <th>Survived</th>\n",
       "      <th>Pclass</th>\n",
       "      <th>Name</th>\n",
       "      <th>Sex</th>\n",
       "      <th>Age</th>\n",
       "      <th>SibSp</th>\n",
       "      <th>Parch</th>\n",
       "      <th>Ticket</th>\n",
       "      <th>Fare</th>\n",
       "      <th>Cabin</th>\n",
       "      <th>Embarked</th>\n",
       "    </tr>\n",
       "  </thead>\n",
       "  <tbody>\n",
       "    <tr>\n",
       "      <th>0</th>\n",
       "      <td>1</td>\n",
       "      <td>0</td>\n",
       "      <td>3</td>\n",
       "      <td>Braund, Mr. Owen Harris</td>\n",
       "      <td>male</td>\n",
       "      <td>22.0</td>\n",
       "      <td>1</td>\n",
       "      <td>0</td>\n",
       "      <td>A/5 21171</td>\n",
       "      <td>7.2500</td>\n",
       "      <td>NaN</td>\n",
       "      <td>S</td>\n",
       "    </tr>\n",
       "    <tr>\n",
       "      <th>1</th>\n",
       "      <td>2</td>\n",
       "      <td>1</td>\n",
       "      <td>1</td>\n",
       "      <td>Cumings, Mrs. John Bradley (Florence Briggs Th...</td>\n",
       "      <td>female</td>\n",
       "      <td>38.0</td>\n",
       "      <td>1</td>\n",
       "      <td>0</td>\n",
       "      <td>PC 17599</td>\n",
       "      <td>71.2833</td>\n",
       "      <td>C85</td>\n",
       "      <td>C</td>\n",
       "    </tr>\n",
       "    <tr>\n",
       "      <th>2</th>\n",
       "      <td>3</td>\n",
       "      <td>1</td>\n",
       "      <td>3</td>\n",
       "      <td>Heikkinen, Miss. Laina</td>\n",
       "      <td>female</td>\n",
       "      <td>26.0</td>\n",
       "      <td>0</td>\n",
       "      <td>0</td>\n",
       "      <td>STON/O2. 3101282</td>\n",
       "      <td>7.9250</td>\n",
       "      <td>NaN</td>\n",
       "      <td>S</td>\n",
       "    </tr>\n",
       "    <tr>\n",
       "      <th>3</th>\n",
       "      <td>4</td>\n",
       "      <td>1</td>\n",
       "      <td>1</td>\n",
       "      <td>Futrelle, Mrs. Jacques Heath (Lily May Peel)</td>\n",
       "      <td>female</td>\n",
       "      <td>35.0</td>\n",
       "      <td>1</td>\n",
       "      <td>0</td>\n",
       "      <td>113803</td>\n",
       "      <td>53.1000</td>\n",
       "      <td>C123</td>\n",
       "      <td>S</td>\n",
       "    </tr>\n",
       "    <tr>\n",
       "      <th>4</th>\n",
       "      <td>5</td>\n",
       "      <td>0</td>\n",
       "      <td>3</td>\n",
       "      <td>Allen, Mr. William Henry</td>\n",
       "      <td>male</td>\n",
       "      <td>35.0</td>\n",
       "      <td>0</td>\n",
       "      <td>0</td>\n",
       "      <td>373450</td>\n",
       "      <td>8.0500</td>\n",
       "      <td>NaN</td>\n",
       "      <td>S</td>\n",
       "    </tr>\n",
       "  </tbody>\n",
       "</table>\n",
       "</div>"
      ],
      "text/plain": [
       "   PassengerId  Survived  Pclass  \\\n",
       "0            1         0       3   \n",
       "1            2         1       1   \n",
       "2            3         1       3   \n",
       "3            4         1       1   \n",
       "4            5         0       3   \n",
       "\n",
       "                                                Name     Sex   Age  SibSp  \\\n",
       "0                            Braund, Mr. Owen Harris    male  22.0      1   \n",
       "1  Cumings, Mrs. John Bradley (Florence Briggs Th...  female  38.0      1   \n",
       "2                             Heikkinen, Miss. Laina  female  26.0      0   \n",
       "3       Futrelle, Mrs. Jacques Heath (Lily May Peel)  female  35.0      1   \n",
       "4                           Allen, Mr. William Henry    male  35.0      0   \n",
       "\n",
       "   Parch            Ticket     Fare Cabin Embarked  \n",
       "0      0         A/5 21171   7.2500   NaN        S  \n",
       "1      0          PC 17599  71.2833   C85        C  \n",
       "2      0  STON/O2. 3101282   7.9250   NaN        S  \n",
       "3      0            113803  53.1000  C123        S  \n",
       "4      0            373450   8.0500   NaN        S  "
      ]
     },
     "execution_count": 17,
     "metadata": {},
     "output_type": "execute_result"
    }
   ],
   "source": [
    "import pandas as pd\n",
    "titanic_data = pd.read_csv(\"../data/titanic.csv\")\n",
    "\n",
    "#show the first 5 rows of the titanic dataset\n",
    "titanic_data.head()"
   ]
  },
  {
   "cell_type": "code",
   "execution_count": 1,
   "metadata": {},
   "outputs": [
    {
     "ename": "NameError",
     "evalue": "name 'titanic_data' is not defined",
     "output_type": "error",
     "traceback": [
      "\u001b[0;31m---------------------------------------------------------------------------\u001b[0m",
      "\u001b[0;31mNameError\u001b[0m                                 Traceback (most recent call last)",
      "Cell \u001b[0;32mIn[1], line 1\u001b[0m\n\u001b[0;32m----> 1\u001b[0m \u001b[39mprint\u001b[39m(\u001b[39m\"\u001b[39m\u001b[39mNumber of total passengers on Titanic: \u001b[39m\u001b[39m\"\u001b[39m, \u001b[39mlen\u001b[39m(titanic_data))\n\u001b[1;32m      3\u001b[0m \u001b[39mprint\u001b[39m(\u001b[39m\"\u001b[39m\u001b[39mNumber of passengers in first class: \u001b[39m\u001b[39m\"\u001b[39m, \u001b[39mlen\u001b[39m(titanic_data[titanic_data[\u001b[39m\"\u001b[39m\u001b[39mPclass\u001b[39m\u001b[39m\"\u001b[39m] \u001b[39m==\u001b[39m \u001b[39m1\u001b[39m]))\n\u001b[1;32m      5\u001b[0m \u001b[39mprint\u001b[39m(\u001b[39m\"\u001b[39m\u001b[39mNumber of minor passengers: \u001b[39m\u001b[39m\"\u001b[39m, \u001b[39mlen\u001b[39m(titanic_data[titanic_data[\u001b[39m\"\u001b[39m\u001b[39mAge\u001b[39m\u001b[39m\"\u001b[39m] \u001b[39m<\u001b[39m \u001b[39m18\u001b[39m]))\n",
      "\u001b[0;31mNameError\u001b[0m: name 'titanic_data' is not defined"
     ]
    }
   ],
   "source": [
    "print(\"Number of total passengers on Titanic: \", len(titanic_data))\n",
    "\n",
    "print(\"Number of passengers in first class: \", len(titanic_data[titanic_data[\"Pclass\"] == 1]))\n",
    "\n",
    "print(\"Number of minor passengers: \", len(titanic_data[titanic_data[\"Age\"] < 18]))\n",
    "\n",
    "print(\"Number of passengers who survived: \", (titanic_data.Survived == 1).sum())\n",
    "\n",
    "# For fraction, divide the number of survivors by the total number of people on board\n",
    "print(\"The fraction of passengers who survived the Titanic disaster: \", (titanic_data[\"Survived\"] == 1).mean())\n",
    "\n",
    "print(\"The fraction of passengers who were minors: \", (titanic_data[\"Age\"] < 18).mean())"
   ]
  },
  {
   "attachments": {},
   "cell_type": "markdown",
   "metadata": {},
   "source": [
    "### Functions\n",
    "\n",
    "In Python, we can define a function by writing `def` and then the function name and the function parameters in parentheses. We then write the function code indented below the function definition. For example, we can define a function called `add` that adds two numbers together."
   ]
  },
  {
   "cell_type": "code",
   "execution_count": 23,
   "metadata": {},
   "outputs": [
    {
     "name": "stdout",
     "output_type": "stream",
     "text": [
      "3\n"
     ]
    }
   ],
   "source": [
    "def add_two_numbers(x, y):\n",
    "    return x + y\n",
    "\n",
    "def add_three_numbers(x, y, z):\n",
    "    return x + y + z\n",
    "\n",
    "def increment(x):\n",
    "    return x + 1\n",
    "\n",
    "def increment_by_10(x):\n",
    "    return x + 10\n",
    "\n",
    "# run (or \"call\") a function\n",
    "result = add_two_numbers(1, 2)\n",
    "print(result)"
   ]
  },
  {
   "cell_type": "code",
   "execution_count": 25,
   "metadata": {},
   "outputs": [
    {
     "name": "stdout",
     "output_type": "stream",
     "text": [
      "Paycheck for someone who worked 40 hours:  528.0\n",
      "Paycheck for someone who worked 25 hours:  330.0\n"
     ]
    }
   ],
   "source": [
    "# Calculate weekly paycheck after taxes.\n",
    "# They're in a 12% tax bracket (in other words, 12% of their salary is taken for taxes, \n",
    "# and they only take home 88%), and they're paid hourly, at a rate of $15/hour.\n",
    "# The function below calculates the paycheck based on the number of hours worked.\n",
    "\n",
    "def calculate_paycheck(hours_worked):\n",
    "    hourly_rate = 15\n",
    "    paycheck = hours_worked * hourly_rate\n",
    "    paycheck_after_taxes = paycheck * (1 - 12/100)\n",
    "    return paycheck_after_taxes\n",
    "\n",
    "# Calculate the paycheck for someone who worked 40 hours\n",
    "print(\"Paycheck for someone who worked 40 hours: \", calculate_paycheck(40))\n",
    "\n",
    "# Calculate the paycheck for someone who worked 25 hours\n",
    "print(\"Paycheck for someone who worked 25 hours: \", calculate_paycheck(25))"
   ]
  },
  {
   "cell_type": "code",
   "execution_count": 27,
   "metadata": {},
   "outputs": [
    {
     "name": "stdout",
     "output_type": "stream",
     "text": [
      "Paycheck for someone who worked 40 hours:  528.0\n",
      "Paycheck for someone who worked 40 hours:  748.8000000000001\n"
     ]
    }
   ],
   "source": [
    "def calculate_paycheck(hours_worked, hourly_rate, tax_rate):\n",
    "    paycheck = hours_worked * hourly_rate\n",
    "    paycheck_after_taxes = paycheck * (1 - tax_rate/100)\n",
    "    return paycheck_after_taxes\n",
    "\n",
    "# Calculate the paycheck for someone who worked 40 hours\n",
    "print(\"Paycheck for someone who worked 40 hours: \", calculate_paycheck(40, 15, 12))\n",
    "print(\"Paycheck for someone who worked 40 hours: \", calculate_paycheck(40, 24, 22))"
   ]
  },
  {
   "cell_type": "code",
   "execution_count": 28,
   "metadata": {},
   "outputs": [
    {
     "data": {
      "text/html": [
       "<div>\n",
       "<style scoped>\n",
       "    .dataframe tbody tr th:only-of-type {\n",
       "        vertical-align: middle;\n",
       "    }\n",
       "\n",
       "    .dataframe tbody tr th {\n",
       "        vertical-align: top;\n",
       "    }\n",
       "\n",
       "    .dataframe thead th {\n",
       "        text-align: right;\n",
       "    }\n",
       "</style>\n",
       "<table border=\"1\" class=\"dataframe\">\n",
       "  <thead>\n",
       "    <tr style=\"text-align: right;\">\n",
       "      <th></th>\n",
       "      <th>Id</th>\n",
       "      <th>MSSubClass</th>\n",
       "      <th>MSZoning</th>\n",
       "      <th>LotFrontage</th>\n",
       "      <th>LotArea</th>\n",
       "      <th>Street</th>\n",
       "      <th>Alley</th>\n",
       "      <th>LotShape</th>\n",
       "      <th>LandContour</th>\n",
       "      <th>Utilities</th>\n",
       "      <th>...</th>\n",
       "      <th>PoolArea</th>\n",
       "      <th>PoolQC</th>\n",
       "      <th>Fence</th>\n",
       "      <th>MiscFeature</th>\n",
       "      <th>MiscVal</th>\n",
       "      <th>MoSold</th>\n",
       "      <th>YrSold</th>\n",
       "      <th>SaleType</th>\n",
       "      <th>SaleCondition</th>\n",
       "      <th>SalePrice</th>\n",
       "    </tr>\n",
       "  </thead>\n",
       "  <tbody>\n",
       "    <tr>\n",
       "      <th>0</th>\n",
       "      <td>1</td>\n",
       "      <td>60</td>\n",
       "      <td>RL</td>\n",
       "      <td>65.0</td>\n",
       "      <td>8450</td>\n",
       "      <td>Pave</td>\n",
       "      <td>NaN</td>\n",
       "      <td>Reg</td>\n",
       "      <td>Lvl</td>\n",
       "      <td>AllPub</td>\n",
       "      <td>...</td>\n",
       "      <td>0</td>\n",
       "      <td>NaN</td>\n",
       "      <td>NaN</td>\n",
       "      <td>NaN</td>\n",
       "      <td>0</td>\n",
       "      <td>2</td>\n",
       "      <td>2008</td>\n",
       "      <td>WD</td>\n",
       "      <td>Normal</td>\n",
       "      <td>208500</td>\n",
       "    </tr>\n",
       "    <tr>\n",
       "      <th>1</th>\n",
       "      <td>2</td>\n",
       "      <td>20</td>\n",
       "      <td>RL</td>\n",
       "      <td>80.0</td>\n",
       "      <td>9600</td>\n",
       "      <td>Pave</td>\n",
       "      <td>NaN</td>\n",
       "      <td>Reg</td>\n",
       "      <td>Lvl</td>\n",
       "      <td>AllPub</td>\n",
       "      <td>...</td>\n",
       "      <td>0</td>\n",
       "      <td>NaN</td>\n",
       "      <td>NaN</td>\n",
       "      <td>NaN</td>\n",
       "      <td>0</td>\n",
       "      <td>5</td>\n",
       "      <td>2007</td>\n",
       "      <td>WD</td>\n",
       "      <td>Normal</td>\n",
       "      <td>181500</td>\n",
       "    </tr>\n",
       "    <tr>\n",
       "      <th>2</th>\n",
       "      <td>3</td>\n",
       "      <td>60</td>\n",
       "      <td>RL</td>\n",
       "      <td>68.0</td>\n",
       "      <td>11250</td>\n",
       "      <td>Pave</td>\n",
       "      <td>NaN</td>\n",
       "      <td>IR1</td>\n",
       "      <td>Lvl</td>\n",
       "      <td>AllPub</td>\n",
       "      <td>...</td>\n",
       "      <td>0</td>\n",
       "      <td>NaN</td>\n",
       "      <td>NaN</td>\n",
       "      <td>NaN</td>\n",
       "      <td>0</td>\n",
       "      <td>9</td>\n",
       "      <td>2008</td>\n",
       "      <td>WD</td>\n",
       "      <td>Normal</td>\n",
       "      <td>223500</td>\n",
       "    </tr>\n",
       "    <tr>\n",
       "      <th>3</th>\n",
       "      <td>4</td>\n",
       "      <td>70</td>\n",
       "      <td>RL</td>\n",
       "      <td>60.0</td>\n",
       "      <td>9550</td>\n",
       "      <td>Pave</td>\n",
       "      <td>NaN</td>\n",
       "      <td>IR1</td>\n",
       "      <td>Lvl</td>\n",
       "      <td>AllPub</td>\n",
       "      <td>...</td>\n",
       "      <td>0</td>\n",
       "      <td>NaN</td>\n",
       "      <td>NaN</td>\n",
       "      <td>NaN</td>\n",
       "      <td>0</td>\n",
       "      <td>2</td>\n",
       "      <td>2006</td>\n",
       "      <td>WD</td>\n",
       "      <td>Abnorml</td>\n",
       "      <td>140000</td>\n",
       "    </tr>\n",
       "    <tr>\n",
       "      <th>4</th>\n",
       "      <td>5</td>\n",
       "      <td>60</td>\n",
       "      <td>RL</td>\n",
       "      <td>84.0</td>\n",
       "      <td>14260</td>\n",
       "      <td>Pave</td>\n",
       "      <td>NaN</td>\n",
       "      <td>IR1</td>\n",
       "      <td>Lvl</td>\n",
       "      <td>AllPub</td>\n",
       "      <td>...</td>\n",
       "      <td>0</td>\n",
       "      <td>NaN</td>\n",
       "      <td>NaN</td>\n",
       "      <td>NaN</td>\n",
       "      <td>0</td>\n",
       "      <td>12</td>\n",
       "      <td>2008</td>\n",
       "      <td>WD</td>\n",
       "      <td>Normal</td>\n",
       "      <td>250000</td>\n",
       "    </tr>\n",
       "  </tbody>\n",
       "</table>\n",
       "<p>5 rows × 81 columns</p>\n",
       "</div>"
      ],
      "text/plain": [
       "   Id  MSSubClass MSZoning  LotFrontage  LotArea Street Alley LotShape  \\\n",
       "0   1          60       RL         65.0     8450   Pave   NaN      Reg   \n",
       "1   2          20       RL         80.0     9600   Pave   NaN      Reg   \n",
       "2   3          60       RL         68.0    11250   Pave   NaN      IR1   \n",
       "3   4          70       RL         60.0     9550   Pave   NaN      IR1   \n",
       "4   5          60       RL         84.0    14260   Pave   NaN      IR1   \n",
       "\n",
       "  LandContour Utilities  ... PoolArea PoolQC Fence MiscFeature MiscVal MoSold  \\\n",
       "0         Lvl    AllPub  ...        0    NaN   NaN         NaN       0      2   \n",
       "1         Lvl    AllPub  ...        0    NaN   NaN         NaN       0      5   \n",
       "2         Lvl    AllPub  ...        0    NaN   NaN         NaN       0      9   \n",
       "3         Lvl    AllPub  ...        0    NaN   NaN         NaN       0      2   \n",
       "4         Lvl    AllPub  ...        0    NaN   NaN         NaN       0     12   \n",
       "\n",
       "  YrSold  SaleType  SaleCondition  SalePrice  \n",
       "0   2008        WD         Normal     208500  \n",
       "1   2007        WD         Normal     181500  \n",
       "2   2008        WD         Normal     223500  \n",
       "3   2006        WD        Abnorml     140000  \n",
       "4   2008        WD         Normal     250000  \n",
       "\n",
       "[5 rows x 81 columns]"
      ]
     },
     "execution_count": 28,
     "metadata": {},
     "output_type": "execute_result"
    }
   ],
   "source": [
    "house_prices_data = pd.read_csv(\"../data/house_prices.csv\")\n",
    "house_prices_data.head()"
   ]
  },
  {
   "cell_type": "code",
   "execution_count": 33,
   "metadata": {},
   "outputs": [
    {
     "name": "stdout",
     "output_type": "stream",
     "text": [
      "Mean house price:  180921.19589041095\n",
      "Mean house area:  1515.463698630137\n"
     ]
    }
   ],
   "source": [
    "def calculate_mean_price(data):\n",
    "    return data[\"SalePrice\"].mean()\n",
    "\n",
    "print(\"Mean house price: \", calculate_mean_price(house_prices_data))\n",
    "\n",
    "def calculate_mean_area(data):\n",
    "    return data[\"GrLivArea\"].mean()\n",
    "\n",
    "print(\"Mean house area: \", calculate_mean_area(house_prices_data))\n"
   ]
  },
  {
   "cell_type": "code",
   "execution_count": 34,
   "metadata": {},
   "outputs": [
    {
     "name": "stdout",
     "output_type": "stream",
     "text": [
      "Cost of painting a 10x10 room with 8 foot ceilings:  30.0\n",
      "Cost of painting a 12x12 room with 9 foot ceilings:  21.599999999999998\n"
     ]
    }
   ],
   "source": [
    "def get_cost(sqft_walls, sqft_ceiling, sqft_per_gallon, cost_per_gallon):\n",
    "    cost = (sqft_walls + sqft_ceiling) / sqft_per_gallon * cost_per_gallon\n",
    "    return cost\n",
    "\n",
    "# Calculate the cost of painting a 10x10 room with 8 foot ceilings\n",
    "print(\"Cost of painting a 10x10 room with 8 foot ceilings: \", get_cost(10 * 8 * 4, 10 * 10, 350, 25))\n",
    "\n",
    "# Calculate the cost of painting: sqft_walls=432, sqft_ceiling=144, sqft_per_gallon=400, cost_per_gallon=15\n",
    "print(\"Cost of painting a 12x12 room with 9 foot ceilings: \", get_cost(432, 144, 400, 15))"
   ]
  },
  {
   "cell_type": "code",
   "execution_count": 39,
   "metadata": {},
   "outputs": [
    {
     "name": "stdout",
     "output_type": "stream",
     "text": [
      "Cost of painting:  30\n",
      "Cost of painting:  45\n"
     ]
    }
   ],
   "source": [
    "from math import ceil\n",
    "\n",
    "def get_actual_cost(sqft_walls, sqft_ceiling, sqft_per_gallon, cost_per_gallon):\n",
    "    gallons = (sqft_walls + sqft_ceiling) / sqft_per_gallon\n",
    "    gallons_to_buy = ceil(gallons)\n",
    "    cost = gallons_to_buy * cost_per_gallon\n",
    "    return cost\n",
    "\n",
    "print(\"Cost of painting: \", get_actual_cost(432, 144, 400, 15))\n",
    "print(\"Cost of painting: \", get_actual_cost(594, 288, 400, 15))"
   ]
  },
  {
   "attachments": {},
   "cell_type": "markdown",
   "metadata": {},
   "source": [
    "### Data types\n",
    "\n",
    "In Python, we can store different types of data. The most common data types are strings, integers, floats, and booleans. This is just a small subset of the available data types -- there are also dictionaries, sets, lists, tuples, and much more.\n",
    "\n",
    "Data types are important, because they determine what kinds of actions you can do with them. For example, you can't add two strings together, but you can add two integers together. You can't add a string and an integer together. Similarly, you can divide two floats, but you cannot divide two strings. To avoid errors, we need to make sure that the actions match the data types that we have.\n",
    "\n",
    "We can check the type of a variable by using the `type()` function."
   ]
  },
  {
   "cell_type": "code",
   "execution_count": 47,
   "metadata": {},
   "outputs": [
    {
     "name": "stdout",
     "output_type": "stream",
     "text": [
      "x:  15\n",
      "type of x:  <class 'int'>\n",
      "Pi value:  3.141592653589793\n",
      "Rounded Pi value:  3.14\n",
      "type of Pi:  <class 'float'>\n",
      "z:  True\n",
      "type of z:  <class 'bool'>\n",
      "not z:  False\n",
      "type of not z:  <class 'bool'>\n",
      "3 * True:  3\n",
      "-3.1 * True -3.1\n",
      "Type of \"abc\" * False:  <class 'str'>\n",
      "Length of \"abc\" * False 0\n",
      "w:  Hello, Python!\n",
      "type of w:  <class 'str'>\n",
      "length of w:  14\n",
      "w + welcome:  Hello, Python! Welcome to the world of Python!\n"
     ]
    }
   ],
   "source": [
    "from math import pi\n",
    "\n",
    "x = 15\n",
    "print(\"x: \", x)\n",
    "print(\"type of x: \", type(x))\n",
    "\n",
    "pi_val = pi\n",
    "print(\"Pi value: \", pi_val)\n",
    "print(\"Rounded Pi value: \", round(pi_val, 2))\n",
    "print(\"type of Pi: \", type(pi_val))\n",
    "\n",
    "z = 15 < 20\n",
    "print(\"z: \", z)\n",
    "print(\"type of z: \", type(z))\n",
    "\n",
    "not_z = not z\n",
    "print(\"not z: \", not_z)\n",
    "print(\"type of not z: \", type(not_z))\n",
    "\n",
    "print(\"3 * True: \", 3 * True)\n",
    "print(\"-3.1 * True\", -3.1 * True)\n",
    "print(\"Type of \\\"abc\\\" * False: \", type(\"abc\" * False))\n",
    "print(\"Length of \\\"abc\\\" * False\", len(\"abc\" * False))\n",
    "\n",
    "print(False + False)\n",
    "print(True + False)\n",
    "print(False + True)\n",
    "print(True + True)\n",
    "print(False + True + True + True)\n",
    "\n",
    "w = \"Hello, Python!\"\n",
    "print(\"w: \", w)\n",
    "print(\"type of w: \", type(w))\n",
    "print(\"length of w: \", len(w))\n",
    "print(\"w + welcome: \", w + \" Welcome to the world of Python!\")\n"
   ]
  },
  {
   "cell_type": "code",
   "execution_count": 48,
   "metadata": {},
   "outputs": [
    {
     "data": {
      "text/plain": [
       "120"
      ]
     },
     "execution_count": 48,
     "metadata": {},
     "output_type": "execute_result"
    }
   ],
   "source": [
    "# You offer both gold plated and solid gold rings.\n",
    "# Gold plated rings have a base cost of $50, and you charge $7 per engraved unit.\n",
    "# Solid gold rings have a base cost of $100, and you charge $10 per engraved unit.\n",
    "# Spaces and punctuation are counted as engraved units.\n",
    "\n",
    "def cost_of_project(engraving, solid_gold):\n",
    "    if (solid_gold):\n",
    "        cost = 100 + 10 * len(engraving)\n",
    "    else:\n",
    "        cost = 50 + 7 * len(engraving)\n",
    "    return cost\n",
    "\n",
    "cost_of_project(\"Charlie+Denver\", True)\n",
    "\n",
    "cost_of_project(\"08/10/2000\", False)"
   ]
  },
  {
   "attachments": {},
   "cell_type": "markdown",
   "metadata": {},
   "source": [
    "### Conditionals\n",
    "\n",
    "In programming, conditions are statements that are either `True` or `False`"
   ]
  },
  {
   "cell_type": "code",
   "execution_count": null,
   "metadata": {},
   "outputs": [],
   "source": [
    "var_one = 1\n",
    "var_two = 2\n",
    "\n",
    "print(var_one < 1)\n",
    "print(var_two >= var_one)"
   ]
  },
  {
   "cell_type": "code",
   "execution_count": 50,
   "metadata": {},
   "outputs": [
    {
     "name": "stdout",
     "output_type": "stream",
     "text": [
      "Normal temperature\n",
      "Fever!\n"
     ]
    }
   ],
   "source": [
    "# evaluate_temp() function accepts a body temperature (in Celcius) as input\n",
    "# Initially, message is set to \"Normal temperature\".\n",
    "# Then, if temp > 38 is True (e.g., the body temperature is greater than 38°C), the message is updated to \"Fever!\". Otherwise, if temp > 38 is False, then the message is not updated.\n",
    "# Finally, message is returned by the function.\n",
    "\n",
    "def evaluate_temp(temp):\n",
    "    message = \"Normal temperature\"\n",
    "    if temp > 38:\n",
    "        message = \"Fever!\"\n",
    "    return message\n",
    "\n",
    "print(evaluate_temp(37))\n",
    "print(evaluate_temp(38.5))"
   ]
  },
  {
   "cell_type": "code",
   "execution_count": null,
   "metadata": {},
   "outputs": [],
   "source": [
    "def evaluate_temp_with_else(temp):\n",
    "    if temp > 38:\n",
    "        message = \"Fever!\"\n",
    "    else:\n",
    "        message = \"Normal temperature.\"\n",
    "    return message"
   ]
  },
  {
   "cell_type": "code",
   "execution_count": null,
   "metadata": {},
   "outputs": [],
   "source": [
    "def evaluate_temp_with_elif(temp):\n",
    "    if temp > 38:\n",
    "        message = \"Fever!\"\n",
    "    elif temp > 35:\n",
    "        message = \"Normal temperature.\"\n",
    "    else:\n",
    "        message = \"Low temperature.\"\n",
    "    return message"
   ]
  },
  {
   "cell_type": "code",
   "execution_count": 51,
   "metadata": {},
   "outputs": [
    {
     "name": "stdout",
     "output_type": "stream",
     "text": [
      "2500.0\n",
      "3600.0\n"
     ]
    }
   ],
   "source": [
    "# You live in a country with only two tax brackets. \n",
    "# Everyone earning less than 12,000 pays 25% in taxes, and \n",
    "# anyone earning 12,000 or more pays 30%. \n",
    "# The function below calculates how much tax is owed\n",
    "\n",
    "def get_taxes(earnings):\n",
    "    if earnings < 12000:\n",
    "        taxes = earnings * 0.25\n",
    "    else:\n",
    "        taxes = earnings * 0.30\n",
    "    return taxes\n",
    "\n",
    "print(get_taxes(10000))\n",
    "print(get_taxes(12000))"
   ]
  },
  {
   "cell_type": "code",
   "execution_count": null,
   "metadata": {},
   "outputs": [],
   "source": [
    "# a function get_grade() takes score as input ranging from 0-100 and \n",
    "# returns the corresponding letter grade\n",
    "# \"A\" - any grade 90-100, inclusive\n",
    "# \"B\" - any grade 80-89, inclusive\n",
    "# \"C\" - any grade 70-79, inclusive\n",
    "# \"D\" - any grade 60-69, inclusive\n",
    "# \"F\" - any grade <60\n",
    "\n",
    "def get_grades(score):\n",
    "    if score >= 90:\n",
    "        grade = \"A\"\n",
    "    elif score >= 80:\n",
    "        grade = \"B\"\n",
    "    elif score >= 70:\n",
    "        grade = \"C\"\n",
    "    elif score >= 60:\n",
    "        grade = \"D\"\n",
    "    else:\n",
    "        grade = \"F\"\n",
    "    return grade"
   ]
  },
  {
   "cell_type": "code",
   "execution_count": 55,
   "metadata": {},
   "outputs": [
    {
     "name": "stdout",
     "output_type": "stream",
     "text": [
      "60.0\n",
      "175.0\n"
     ]
    }
   ],
   "source": [
    "# a function get_water_bill() that takes as input:\n",
    "# num_gallons = the number of gallons of water that a customer used that month. \n",
    "# (This will always be an integer with no decimal part.)\n",
    "# output: the water bill for that customer, in dollars.\n",
    "\n",
    "# Tier\tAmount in gallons\tPrice per 1000 gallons\n",
    "# Tier 1\t0 - 8,000\t$5\n",
    "# Tier 2\t8,001 - 22,000\t$6\n",
    "# Tier 3\t22,001 - 30,000\t$7\n",
    "# Tier 4\t30,001+\t$10\n",
    "\n",
    "# Someone who uses 10,000 gallons of water in a month is placed in Tier 2, and needs to pay a water bill of $6 * 10 = $60. In other words, get_water_bill(10000) should return 60.0.\n",
    "# Someone who uses 25,000 gallons of water in a month is placed in Tier 3, and needs to pay a water bill of $7 * 25 = $175. In other words, get_water_bill(25000) should return 175.0.\n",
    "\n",
    "def get_water_bill(num_gallons):\n",
    "    if num_gallons <= 8000:\n",
    "        bill = num_gallons * 0.005\n",
    "    elif num_gallons <= 22000:\n",
    "        bill = num_gallons * 0.006\n",
    "    elif num_gallons <= 30000:\n",
    "        bill = num_gallons * 0.007\n",
    "    else:\n",
    "        bill = num_gallons * 0.01\n",
    "    return bill\n",
    "\n",
    "print(get_water_bill(10000))\n",
    "print(get_water_bill(25000))"
   ]
  },
  {
   "cell_type": "code",
   "execution_count": 1,
   "metadata": {},
   "outputs": [
    {
     "name": "stdout",
     "output_type": "stream",
     "text": [
      "100\n"
     ]
    }
   ],
   "source": [
    "# You work for a company that provides data services. \n",
    "# For $100/month, your company provides 15 gigabytes (GB) of data. \n",
    "# Then, any additional data is billed at $0.10/MB (or $100/GB, since 1,000 MB are in 1 GB).\n",
    "\n",
    "# write a function get_phone_bill() that takes as input:\n",
    "\n",
    "# gb = number of GB that the customer used in a month\n",
    "# It should return the customer's total phone bill.\n",
    "\n",
    "# For instance:\n",
    "\n",
    "# A customer who uses 10 GB of data in one month is billed only $100, \n",
    "# since the usage stayed under 15 GB. In other words, get_phone_bill(10) should return 100.\n",
    "\n",
    "# A customer who uses 15.1 GB (or 15 GB + 100 MB) of data in one month has gone over by .1 GB, \n",
    "# so they must pay $100 (cost of plan), plus $0.10 * 100 = $10, for a total bill of $110. \n",
    "# In other words, get_phone_bill(15.1) should return 110.\n",
    "\n",
    "def get_phone_bill(gb):\n",
    "    if gb <= 15:\n",
    "        bill = 100\n",
    "    else:\n",
    "        bill = 100 + (gb - 15) * 100\n",
    "    return bill\n",
    "\n",
    "print(get_phone_bill(10))"
   ]
  },
  {
   "attachments": {},
   "cell_type": "markdown",
   "metadata": {},
   "source": [
    "### Lists\n",
    "\n",
    "In Python, we can store multiple values in a list. We can create a list by writing the values inside square brackets and separating them by commas. For example, we can create a list of numbers."
   ]
  },
  {
   "cell_type": "code",
   "execution_count": 4,
   "metadata": {},
   "outputs": [
    {
     "name": "stdout",
     "output_type": "stream",
     "text": [
      "Flowers:  ['pink primrose', 'hard-leaved pocket orchid', 'canterbury bells', 'sweet pea', 'english marigold', 'tiger lily', 'moon orchid', 'bird of paradise', 'monkshood', 'globe thistle']\n",
      "3\n"
     ]
    }
   ],
   "source": [
    "flowers = \"pink primrose,hard-leaved pocket orchid,canterbury bells,sweet pea,english marigold,tiger lily,moon orchid,bird of paradise,monkshood,globe thistle\"\n",
    "flowers_list = flowers.split(\",\")\n",
    "print(\"Flowers: \", flowers_list)\n",
    "\n",
    "# Write a function get_flower() that takes as input a flower name (as a string) and returns the corresponding position in the list.\n",
    "def get_flower(flower_name):\n",
    "    return flowers_list.index(flower_name)\n",
    "\n",
    "print(get_flower(\"sweet pea\"))"
   ]
  },
  {
   "cell_type": "code",
   "execution_count": null,
   "metadata": {},
   "outputs": [],
   "source": [
    "menu = ['stewed meat with onions', 'bean soup', 'risotto with trout and shrimp',\n",
    "       'fish soup with cream and onion', 'gyro']\n",
    "\n",
    "# remove bean soup from the menu\n",
    "menu.remove(\"bean soup\")\n",
    "\n",
    "# add \"chicken soup\" to the menu\n",
    "menu.append(\"chicken soup\")\n",
    "\n",
    "# replace \"gyro\" with \"chicken gyro\"\n",
    "menu[4] = \"chicken gyro\""
   ]
  },
  {
   "cell_type": "code",
   "execution_count": 7,
   "metadata": {},
   "outputs": [
    {
     "name": "stdout",
     "output_type": "stream",
     "text": [
      "150.85714285714286\n"
     ]
    }
   ],
   "source": [
    "# The list num_customers contains the number of customers who came into your restaurant every day over the last month (which lasted thirty days). Fill in values for each of the following:\n",
    "\n",
    "# avg_first_seven - average number of customers who visited in the first seven days\n",
    "# avg_last_seven - average number of customers who visited in the last seven days\n",
    "# max_month - number of customers on the day that got the most customers in the last month\n",
    "# min_month - number of customers on the day that got the least customers in the last month\n",
    "\n",
    "# If you have to find the minimum value in a list, use min() instead of scanning for the smallest value and directly filling in a number.\n",
    "\n",
    "# Number of customers each day for the last month\n",
    "num_customers = [137, 147, 135, 128, 170, 174, 165, 146, 126, 159,\n",
    "                 141, 148, 132, 147, 168, 153, 170, 161, 148, 152,\n",
    "                 141, 151, 131, 149, 164, 163, 143, 143, 166, 171]\n",
    "\n",
    "avg_first_seven = sum(num_customers[:7]) / 7\n",
    "print(\"avg_first_seven: \", avg_first_seven)\n",
    "\n",
    "avg_last_seven = sum(num_customers[-7:]) / 7\n",
    "print(\"avg_last_seven: \", avg_last_seven)\n",
    "\n",
    "max_month = max(num_customers)\n",
    "\n",
    "min_month = min(num_customers)"
   ]
  },
  {
   "cell_type": "code",
   "execution_count": 16,
   "metadata": {},
   "outputs": [
    {
     "name": "stdout",
     "output_type": "stream",
     "text": [
      "list_liked:  [False, False, False, True, True, True, True, False]\n"
     ]
    },
    {
     "data": {
      "text/plain": [
       "1.0"
      ]
     },
     "execution_count": 16,
     "metadata": {},
     "output_type": "execute_result"
    }
   ],
   "source": [
    "def percentage_liked(ratings):\n",
    "    list_liked = [i>=4 for i in ratings]\n",
    "    print(\"list_liked: \", list_liked)\n",
    "    percentage_liked = sum(list_liked) / len(list_liked)\n",
    "    return percentage_liked\n",
    "\n",
    "# should return 0.5\n",
    "percentage_liked([1, 2, 3, 4, 5, 4, 5, 1])"
   ]
  },
  {
   "cell_type": "code",
   "execution_count": 17,
   "metadata": {},
   "outputs": [
    {
     "name": "stdout",
     "output_type": "stream",
     "text": [
      "0.03629533421163837\n",
      "0.6615639847417742\n"
     ]
    }
   ],
   "source": [
    "\"\"\"\n",
    "write a function that returns the percentage growth in the total number of users relative to a specified number of years ago.\n",
    "\n",
    "Your function percentage_growth() should take two arguments as input:\n",
    "\n",
    "num_users = Python list with the total number of users each year. So num_users[0] is the total number of users in the first year, num_users[1] is the total number of users in the second year, and so on. The final entry in the list gives the total number of users in the most recently completed year.\n",
    "yrs_ago = number of years to go back in time when calculating the growth percentage\n",
    "For instance, say num_users = [920344, 1043553, 1204334, 1458996, 1503323, 1593432, 1623463, 1843064, 1930992, 2001078].\n",
    "\n",
    "if yrs_ago = 1, we want the function to return a value of about 0.036. This corresponds to a percentage growth of approximately 3.6%, calculated as (2001078 - 1930992)/1930992.\n",
    "if years_ago = 7, we would want to return approximately 0.66. This corresponds to a percentage growth of approximately 66%, calculated as (2001078 - 1204334)/1204334.\n",
    "\"\"\"\n",
    "\n",
    "def percentage_growth(num_users, yrs_ago):\n",
    "    return (num_users[-1] - num_users[-1-yrs_ago]) / num_users[-1-yrs_ago]\n",
    "\n",
    "num_users_test = [920344, 1043553, 1204334, 1458996, 1503323, 1593432, 1623463, 1843064, 1930992, 2001078]\n",
    "\n",
    "print(percentage_growth(num_users_test, 1))\n",
    "print(percentage_growth(num_users_test, 7))"
   ]
  },
  {
   "cell_type": "code",
   "execution_count": 18,
   "metadata": {},
   "outputs": [
    {
     "name": "stdout",
     "output_type": "stream",
     "text": [
      "True\n"
     ]
    }
   ],
   "source": [
    "def is_valid_zip(zip_code):\n",
    "    \"\"\"Returns whether the input string is a valid (5 digit) zip code\n",
    "    \"\"\"\n",
    "    def hasDigits(pin_code):\n",
    "        return pin_code.isdigit()\n",
    "    if (len(zip_code) == 5 and hasDigits(zip_code)):\n",
    "        return True\n",
    "    return False\n",
    "\n",
    "print(is_valid_zip(\"12345\"))"
   ]
  },
  {
   "cell_type": "code",
   "execution_count": 5,
   "metadata": {},
   "outputs": [
    {
     "name": "stdout",
     "output_type": "stream",
     "text": [
      "True\n"
     ]
    }
   ],
   "source": [
    "doc_list = [\"The Learn Python Challenge Casino.\", \"They bought a car\", \"Casinoville\"]\n",
    "print(\"Casinoville\" in doc_list)"
   ]
  },
  {
   "cell_type": "code",
   "execution_count": 20,
   "metadata": {},
   "outputs": [
    {
     "name": "stdout",
     "output_type": "stream",
     "text": [
      "[0, 1]\n"
     ]
    }
   ],
   "source": [
    "def word_search(doc_list, keyword):\n",
    "    indices = []\n",
    "    for i, doc in enumerate(doc_list):\n",
    "        tokens = doc.split()\n",
    "        normalized = [token.rstrip('.,').lower() for token in tokens]\n",
    "        if keyword.lower() in normalized:\n",
    "            indices.append(i)\n",
    "    return indices\n",
    "\n",
    "doc_list = [\"The Learn Python Challenge Casino.\", \"They bought a car and a casino\", \"Casinoville\"]\n",
    "print(word_search(doc_list, 'casino'))"
   ]
  },
  {
   "cell_type": "code",
   "execution_count": 22,
   "metadata": {},
   "outputs": [
    {
     "data": {
      "text/plain": [
       "{'casino': [0, 1], 'they': [1]}"
      ]
     },
     "execution_count": 22,
     "metadata": {},
     "output_type": "execute_result"
    }
   ],
   "source": [
    "def multi_word_search(doc_list, keywords):\n",
    "    \"\"\"\n",
    "    Takes list of documents (each document is a string) and a list of keywords.  \n",
    "    Returns a dictionary where each key is a keyword, and the value is a list of indices\n",
    "    (from doc_list) of the documents containing that keyword\n",
    "\n",
    "    >>> doc_list = [\"The Learn Python Challenge Casino.\", \"They bought a car and a casino\", \"Casinoville\"]\n",
    "    >>> keywords = ['casino', 'they']\n",
    "    >>> multi_word_search(doc_list, keywords)\n",
    "    {'casino': [0, 1], 'they': [1]}\n",
    "    \"\"\"\n",
    "    indices = {}\n",
    "    for keyword in keywords:\n",
    "        indices[keyword] = word_search(doc_list, keyword)\n",
    "    return indices\n",
    "\n",
    "doc_list = [\"The Learn Python Challenge Casino.\", \"They bought a car and a casino\", \"Casinoville\"]\n",
    "multi_word_search(doc_list, ['casino', 'they'])"
   ]
  },
  {
   "attachments": {},
   "cell_type": "markdown",
   "metadata": {},
   "source": [
    "### Operator overloading\n",
    "\n",
    "In Python, we can use the same operator to do different things depending on the data type. For example, we can use the `+` operator to add two numbers together or to concatenate two strings together."
   ]
  },
  {
   "cell_type": "code",
   "execution_count": 27,
   "metadata": {},
   "outputs": [
    {
     "name": "stdout",
     "output_type": "stream",
     "text": [
      "It's math! It has type <class 'module'>\n",
      "pi to 4 significant digits = 3.142\n",
      "Help on built-in function log in module math:\n",
      "\n",
      "log(...)\n",
      "    log(x, [base=math.e])\n",
      "    Return the logarithm of x to the given base.\n",
      "    \n",
      "    If the base not specified, returns the natural logarithm (base e) of x.\n",
      "\n",
      "Help on module math:\n",
      "\n",
      "NAME\n",
      "    math\n",
      "\n",
      "MODULE REFERENCE\n",
      "    https://docs.python.org/3.9/library/math\n",
      "    \n",
      "    The following documentation is automatically generated from the Python\n",
      "    source files.  It may be incomplete, incorrect or include features that\n",
      "    are considered implementation detail and may vary between Python\n",
      "    implementations.  When in doubt, consult the module reference at the\n",
      "    location listed above.\n",
      "\n",
      "DESCRIPTION\n",
      "    This module provides access to the mathematical functions\n",
      "    defined by the C standard.\n",
      "\n",
      "FUNCTIONS\n",
      "    acos(x, /)\n",
      "        Return the arc cosine (measured in radians) of x.\n",
      "        \n",
      "        The result is between 0 and pi.\n",
      "    \n",
      "    acosh(x, /)\n",
      "        Return the inverse hyperbolic cosine of x.\n",
      "    \n",
      "    asin(x, /)\n",
      "        Return the arc sine (measured in radians) of x.\n",
      "        \n",
      "        The result is between -pi/2 and pi/2.\n",
      "    \n",
      "    asinh(x, /)\n",
      "        Return the inverse hyperbolic sine of x.\n",
      "    \n",
      "    atan(x, /)\n",
      "        Return the arc tangent (measured in radians) of x.\n",
      "        \n",
      "        The result is between -pi/2 and pi/2.\n",
      "    \n",
      "    atan2(y, x, /)\n",
      "        Return the arc tangent (measured in radians) of y/x.\n",
      "        \n",
      "        Unlike atan(y/x), the signs of both x and y are considered.\n",
      "    \n",
      "    atanh(x, /)\n",
      "        Return the inverse hyperbolic tangent of x.\n",
      "    \n",
      "    ceil(x, /)\n",
      "        Return the ceiling of x as an Integral.\n",
      "        \n",
      "        This is the smallest integer >= x.\n",
      "    \n",
      "    comb(n, k, /)\n",
      "        Number of ways to choose k items from n items without repetition and without order.\n",
      "        \n",
      "        Evaluates to n! / (k! * (n - k)!) when k <= n and evaluates\n",
      "        to zero when k > n.\n",
      "        \n",
      "        Also called the binomial coefficient because it is equivalent\n",
      "        to the coefficient of k-th term in polynomial expansion of the\n",
      "        expression (1 + x)**n.\n",
      "        \n",
      "        Raises TypeError if either of the arguments are not integers.\n",
      "        Raises ValueError if either of the arguments are negative.\n",
      "    \n",
      "    copysign(x, y, /)\n",
      "        Return a float with the magnitude (absolute value) of x but the sign of y.\n",
      "        \n",
      "        On platforms that support signed zeros, copysign(1.0, -0.0)\n",
      "        returns -1.0.\n",
      "    \n",
      "    cos(x, /)\n",
      "        Return the cosine of x (measured in radians).\n",
      "    \n",
      "    cosh(x, /)\n",
      "        Return the hyperbolic cosine of x.\n",
      "    \n",
      "    degrees(x, /)\n",
      "        Convert angle x from radians to degrees.\n",
      "    \n",
      "    dist(p, q, /)\n",
      "        Return the Euclidean distance between two points p and q.\n",
      "        \n",
      "        The points should be specified as sequences (or iterables) of\n",
      "        coordinates.  Both inputs must have the same dimension.\n",
      "        \n",
      "        Roughly equivalent to:\n",
      "            sqrt(sum((px - qx) ** 2.0 for px, qx in zip(p, q)))\n",
      "    \n",
      "    erf(x, /)\n",
      "        Error function at x.\n",
      "    \n",
      "    erfc(x, /)\n",
      "        Complementary error function at x.\n",
      "    \n",
      "    exp(x, /)\n",
      "        Return e raised to the power of x.\n",
      "    \n",
      "    expm1(x, /)\n",
      "        Return exp(x)-1.\n",
      "        \n",
      "        This function avoids the loss of precision involved in the direct evaluation of exp(x)-1 for small x.\n",
      "    \n",
      "    fabs(x, /)\n",
      "        Return the absolute value of the float x.\n",
      "    \n",
      "    factorial(x, /)\n",
      "        Find x!.\n",
      "        \n",
      "        Raise a ValueError if x is negative or non-integral.\n",
      "    \n",
      "    floor(x, /)\n",
      "        Return the floor of x as an Integral.\n",
      "        \n",
      "        This is the largest integer <= x.\n",
      "    \n",
      "    fmod(x, y, /)\n",
      "        Return fmod(x, y), according to platform C.\n",
      "        \n",
      "        x % y may differ.\n",
      "    \n",
      "    frexp(x, /)\n",
      "        Return the mantissa and exponent of x, as pair (m, e).\n",
      "        \n",
      "        m is a float and e is an int, such that x = m * 2.**e.\n",
      "        If x is 0, m and e are both 0.  Else 0.5 <= abs(m) < 1.0.\n",
      "    \n",
      "    fsum(seq, /)\n",
      "        Return an accurate floating point sum of values in the iterable seq.\n",
      "        \n",
      "        Assumes IEEE-754 floating point arithmetic.\n",
      "    \n",
      "    gamma(x, /)\n",
      "        Gamma function at x.\n",
      "    \n",
      "    gcd(*integers)\n",
      "        Greatest Common Divisor.\n",
      "    \n",
      "    hypot(...)\n",
      "        hypot(*coordinates) -> value\n",
      "        \n",
      "        Multidimensional Euclidean distance from the origin to a point.\n",
      "        \n",
      "        Roughly equivalent to:\n",
      "            sqrt(sum(x**2 for x in coordinates))\n",
      "        \n",
      "        For a two dimensional point (x, y), gives the hypotenuse\n",
      "        using the Pythagorean theorem:  sqrt(x*x + y*y).\n",
      "        \n",
      "        For example, the hypotenuse of a 3/4/5 right triangle is:\n",
      "        \n",
      "            >>> hypot(3.0, 4.0)\n",
      "            5.0\n",
      "    \n",
      "    isclose(a, b, *, rel_tol=1e-09, abs_tol=0.0)\n",
      "        Determine whether two floating point numbers are close in value.\n",
      "        \n",
      "          rel_tol\n",
      "            maximum difference for being considered \"close\", relative to the\n",
      "            magnitude of the input values\n",
      "          abs_tol\n",
      "            maximum difference for being considered \"close\", regardless of the\n",
      "            magnitude of the input values\n",
      "        \n",
      "        Return True if a is close in value to b, and False otherwise.\n",
      "        \n",
      "        For the values to be considered close, the difference between them\n",
      "        must be smaller than at least one of the tolerances.\n",
      "        \n",
      "        -inf, inf and NaN behave similarly to the IEEE 754 Standard.  That\n",
      "        is, NaN is not close to anything, even itself.  inf and -inf are\n",
      "        only close to themselves.\n",
      "    \n",
      "    isfinite(x, /)\n",
      "        Return True if x is neither an infinity nor a NaN, and False otherwise.\n",
      "    \n",
      "    isinf(x, /)\n",
      "        Return True if x is a positive or negative infinity, and False otherwise.\n",
      "    \n",
      "    isnan(x, /)\n",
      "        Return True if x is a NaN (not a number), and False otherwise.\n",
      "    \n",
      "    isqrt(n, /)\n",
      "        Return the integer part of the square root of the input.\n",
      "    \n",
      "    lcm(*integers)\n",
      "        Least Common Multiple.\n",
      "    \n",
      "    ldexp(x, i, /)\n",
      "        Return x * (2**i).\n",
      "        \n",
      "        This is essentially the inverse of frexp().\n",
      "    \n",
      "    lgamma(x, /)\n",
      "        Natural logarithm of absolute value of Gamma function at x.\n",
      "    \n",
      "    log(...)\n",
      "        log(x, [base=math.e])\n",
      "        Return the logarithm of x to the given base.\n",
      "        \n",
      "        If the base not specified, returns the natural logarithm (base e) of x.\n",
      "    \n",
      "    log10(x, /)\n",
      "        Return the base 10 logarithm of x.\n",
      "    \n",
      "    log1p(x, /)\n",
      "        Return the natural logarithm of 1+x (base e).\n",
      "        \n",
      "        The result is computed in a way which is accurate for x near zero.\n",
      "    \n",
      "    log2(x, /)\n",
      "        Return the base 2 logarithm of x.\n",
      "    \n",
      "    modf(x, /)\n",
      "        Return the fractional and integer parts of x.\n",
      "        \n",
      "        Both results carry the sign of x and are floats.\n",
      "    \n",
      "    nextafter(x, y, /)\n",
      "        Return the next floating-point value after x towards y.\n",
      "    \n",
      "    perm(n, k=None, /)\n",
      "        Number of ways to choose k items from n items without repetition and with order.\n",
      "        \n",
      "        Evaluates to n! / (n - k)! when k <= n and evaluates\n",
      "        to zero when k > n.\n",
      "        \n",
      "        If k is not specified or is None, then k defaults to n\n",
      "        and the function returns n!.\n",
      "        \n",
      "        Raises TypeError if either of the arguments are not integers.\n",
      "        Raises ValueError if either of the arguments are negative.\n",
      "    \n",
      "    pow(x, y, /)\n",
      "        Return x**y (x to the power of y).\n",
      "    \n",
      "    prod(iterable, /, *, start=1)\n",
      "        Calculate the product of all the elements in the input iterable.\n",
      "        \n",
      "        The default start value for the product is 1.\n",
      "        \n",
      "        When the iterable is empty, return the start value.  This function is\n",
      "        intended specifically for use with numeric values and may reject\n",
      "        non-numeric types.\n",
      "    \n",
      "    radians(x, /)\n",
      "        Convert angle x from degrees to radians.\n",
      "    \n",
      "    remainder(x, y, /)\n",
      "        Difference between x and the closest integer multiple of y.\n",
      "        \n",
      "        Return x - n*y where n*y is the closest integer multiple of y.\n",
      "        In the case where x is exactly halfway between two multiples of\n",
      "        y, the nearest even value of n is used. The result is always exact.\n",
      "    \n",
      "    sin(x, /)\n",
      "        Return the sine of x (measured in radians).\n",
      "    \n",
      "    sinh(x, /)\n",
      "        Return the hyperbolic sine of x.\n",
      "    \n",
      "    sqrt(x, /)\n",
      "        Return the square root of x.\n",
      "    \n",
      "    tan(x, /)\n",
      "        Return the tangent of x (measured in radians).\n",
      "    \n",
      "    tanh(x, /)\n",
      "        Return the hyperbolic tangent of x.\n",
      "    \n",
      "    trunc(x, /)\n",
      "        Truncates the Real x to the nearest Integral toward 0.\n",
      "        \n",
      "        Uses the __trunc__ magic method.\n",
      "    \n",
      "    ulp(x, /)\n",
      "        Return the value of the least significant bit of the float x.\n",
      "\n",
      "DATA\n",
      "    e = 2.718281828459045\n",
      "    inf = inf\n",
      "    nan = nan\n",
      "    pi = 3.141592653589793\n",
      "    tau = 6.283185307179586\n",
      "\n",
      "FILE\n",
      "    /Users/kranthilakum/opt/anaconda3/lib/python3.9/lib-dynload/math.cpython-39-darwin.so\n",
      "\n",
      "\n",
      "['__doc__', '__file__', '__loader__', '__name__', '__package__', '__spec__', 'acos', 'acosh', 'asin', 'asinh', 'atan', 'atan2', 'atanh', 'ceil', 'comb', 'copysign', 'cos', 'cosh', 'degrees', 'dist', 'e', 'erf', 'erfc', 'exp', 'expm1', 'fabs', 'factorial', 'floor', 'fmod', 'frexp', 'fsum', 'gamma', 'gcd', 'hypot', 'inf', 'isclose', 'isfinite', 'isinf', 'isnan', 'isqrt', 'lcm', 'ldexp', 'lgamma', 'log', 'log10', 'log1p', 'log2', 'modf', 'nan', 'nextafter', 'perm', 'pi', 'pow', 'prod', 'radians', 'remainder', 'sin', 'sinh', 'sqrt', 'tan', 'tanh', 'tau', 'trunc', 'ulp']\n"
     ]
    }
   ],
   "source": [
    "import math\n",
    "\n",
    "print(\"It's math! It has type {}\".format(type(math)))\n",
    "\n",
    "print(\"pi to 4 significant digits = {:.4}\".format(math.pi))\n",
    "\n",
    "math.log(32, 2)\n",
    "\n",
    "help(math.log)\n",
    "\n",
    "help(math)\n",
    "\n",
    "print(dir(math))"
   ]
  },
  {
   "cell_type": "code",
   "execution_count": 16,
   "metadata": {},
   "outputs": [
    {
     "name": "stdout",
     "output_type": "stream",
     "text": [
      "It's numpy! It has type <class 'module'>\n",
      "some methods: ['uniform', 'vonmises', 'wald', 'weibull', 'zipf']\n",
      "dice rolls: [2 3 4 4 1 3 1 5 4 1]\n",
      "add 100 to rolls: [102 103 104 104 101 103 101 105 104 101]\n",
      "check:  [ True  True  True  True  True  True  True  True  True  True]\n",
      "mean of rolls: 2.8\n",
      "type of rolls: <class 'numpy.ndarray'>\n",
      "some methods that can be applied on rolls: ['tostring', 'trace', 'transpose', 'var', 'view']\n"
     ]
    }
   ],
   "source": [
    "import numpy as np\n",
    "\n",
    "print(\"It's numpy! It has type {}\".format(type(np)))\n",
    "\n",
    "print(\"some methods:\", dir(np.random)[-5:])\n",
    "\n",
    "rolls = np.random.randint(low=1, high=6, size=10)\n",
    "print(\"dice rolls:\", rolls)\n",
    "\n",
    "print(\"add 100 to rolls:\", rolls + 100)\n",
    "\n",
    "print(\"mean of rolls:\", np.mean(rolls))\n",
    "\n",
    "print(\"type of rolls:\", type(rolls))\n",
    "\n",
    "print(\"some methods that can be applied on rolls:\", dir(rolls)[-5:])"
   ]
  },
  {
   "cell_type": "code",
   "execution_count": 24,
   "metadata": {},
   "outputs": [
    {
     "name": "stdout",
     "output_type": "stream",
     "text": [
      "3 x 3 matrix: [[1, 2, 3], [4, 5, 6], [7, 8, 9]]\n",
      "3 x 3 matrix in numpy: [[1 2 3]\n",
      " [4 5 6]\n",
      " [7 8 9]]\n",
      "last row of matrix_3x3_np: [7 8 9]\n",
      "last element of last row of matrix_3x3_np: 9\n",
      "transpose of matrix_3x3_np: [[1 4 7]\n",
      " [2 5 8]\n",
      " [3 6 9]]\n",
      "rotate matrix_3x3_np by 90 degrees: [[3 6 9]\n",
      " [2 5 8]\n",
      " [1 4 7]]\n",
      "rotate matrix_3x3_np by -90 degrees: [[7 4 1]\n",
      " [8 5 2]\n",
      " [9 6 3]]\n",
      "rotate matrix_3x3_np by 180 degrees: [[9 8 7]\n",
      " [6 5 4]\n",
      " [3 2 1]]\n",
      "identity matrix: [[1. 0. 0.]\n",
      " [0. 1. 0.]\n",
      " [0. 0. 1.]]\n"
     ]
    }
   ],
   "source": [
    "# 3 x 3 matrix\n",
    "matrix_3x3 = [[1, 2, 3], [4, 5, 6], [7, 8, 9]]\n",
    "print(\"3 x 3 matrix:\", matrix_3x3)\n",
    "\n",
    "matrix_3x3_np = np.asarray(matrix_3x3)\n",
    "print(\"3 x 3 matrix in numpy:\", matrix_3x3_np)\n",
    "\n",
    "print(\"last row of matrix_3x3_np:\", matrix_3x3_np[-1])\n",
    "\n",
    "print(\"last element of last row of matrix_3x3_np:\", matrix_3x3_np[-1][-1])\n",
    "\n",
    "# transpose of matrix_3x3_np\n",
    "print(\"transpose of matrix_3x3_np:\", matrix_3x3_np.T)\n",
    "\n",
    "# rotate matrix_3x3_np by 90 degrees\n",
    "print(\"rotate matrix_3x3_np by 90 degrees:\", np.rot90(matrix_3x3_np))\n",
    "\n",
    "# rotate matrix_3x3_np by -90 degrees\n",
    "print(\"rotate matrix_3x3_np by -90 degrees:\", np.rot90(matrix_3x3_np, -1))\n",
    "\n",
    "# rotate matrix_3x3_np by 180 degrees\n",
    "print(\"rotate matrix_3x3_np by 180 degrees:\", np.rot90(matrix_3x3_np, 2))"
   ]
  },
  {
   "cell_type": "code",
   "execution_count": 26,
   "metadata": {},
   "outputs": [
    {
     "name": "stdout",
     "output_type": "stream",
     "text": [
      "identity matrix: [[1. 0. 0.]\n",
      " [0. 1. 0.]\n",
      " [0. 0. 1.]]\n",
      "idempotent operation: [[1. 0. 0.]\n",
      " [0. 1. 0.]\n",
      " [0. 0. 1.]]\n"
     ]
    }
   ],
   "source": [
    "# identity matrix\n",
    "print(\"identity matrix:\", np.eye(3))"
   ]
  },
  {
   "cell_type": "code",
   "execution_count": 3,
   "metadata": {},
   "outputs": [
    {
     "name": "stdout",
     "output_type": "stream",
     "text": [
      "It's tensorflow! It has type <class 'module'>\n",
      "a + b: tf.Tensor(5, shape=(), dtype=int32)\n",
      "c: tf.Tensor(5, shape=(), dtype=int32)\n",
      "c == a + b: tf.Tensor(True, shape=(), dtype=bool)\n"
     ]
    }
   ],
   "source": [
    "import tensorflow as tf\n",
    "\n",
    "print(\"It's tensorflow! It has type {}\".format(type(tf)))\n",
    "\n",
    "a = tf.constant(2)\n",
    "b = tf.constant(3)\n",
    "print(\"a + b:\", a + b)\n",
    "c = tf.add(a, b)\n",
    "print(\"c:\", c)\n",
    "print(\"c == a + b:\", c == a + b)"
   ]
  },
  {
   "cell_type": "code",
   "execution_count": 11,
   "metadata": {},
   "outputs": [
    {
     "name": "stdout",
     "output_type": "stream",
     "text": [
      "True\n",
      "False\n",
      "False\n",
      "True\n"
     ]
    }
   ],
   "source": [
    "def blackjack_hand_greater_than(hand_1, hand_2):\n",
    "    \"\"\"\n",
    "    Return True if hand_1 beats hand_2, and False otherwise.\n",
    "    \n",
    "    In order for hand_1 to beat hand_2 the following must be true:\n",
    "    - The total of hand_1 must not exceed 21\n",
    "    - The total of hand_1 must exceed the total of hand_2 OR hand_2's total must exceed 21\n",
    "    \n",
    "    Hands are represented as a list of cards. Each card is represented by a string.\n",
    "    \n",
    "    When adding up a hand's total, cards with numbers count for that many points. Face\n",
    "    cards ('J', 'Q', and 'K') are worth 10 points. 'A' can count for 1 or 11.\n",
    "    \n",
    "    When determining a hand's total, you should try to count aces in the way that \n",
    "    maximizes the hand's total without going over 21. e.g. the total of ['A', 'A', '9'] is 21,\n",
    "    the total of ['A', 'A', '9', '3'] is 14.\n",
    "    \n",
    "    Examples:\n",
    "    >>> blackjack_hand_greater_than(['K'], ['3', '4'])\n",
    "    True\n",
    "    >>> blackjack_hand_greater_than(['K'], ['10'])\n",
    "    False\n",
    "    >>> blackjack_hand_greater_than(['K', 'K', '2'], ['3'])\n",
    "    False\n",
    "    >>> blackjack_hand_greater_than(['J', 'A', 'A', '2'], ['9', '6', 'K', 'A', '5', 'J'])\n",
    "    True\n",
    "    \"\"\"\n",
    "    def total(hand):\n",
    "        total = 0\n",
    "        aces = 0\n",
    "        for card in hand:\n",
    "            if card in ['J', 'Q', 'K']:\n",
    "                total += 10\n",
    "            elif card == 'A':\n",
    "                aces += 1\n",
    "            else:\n",
    "                total += int(card)\n",
    "        total += aces\n",
    "        while total + 10 <= 21 and aces > 0:\n",
    "            total += 10\n",
    "            aces -= 1\n",
    "        return total\n",
    "    \n",
    "    return total(hand_1) <= 21 and (total(hand_1) > total(hand_2) or total(hand_2) > 21)\n",
    "\n",
    "print(blackjack_hand_greater_than(['K'], ['3', '4']))\n",
    "print(blackjack_hand_greater_than(['K'], ['10']))\n",
    "print(blackjack_hand_greater_than(['K', 'K', '2'], ['3']))\n",
    "print(blackjack_hand_greater_than(['J', 'A', 'A', '2'], ['9', '6', 'K', 'A', '5', 'J']))\n"
   ]
  }
 ],
 "metadata": {
  "kernelspec": {
   "display_name": "Python 3",
   "language": "python",
   "name": "python3"
  },
  "language_info": {
   "codemirror_mode": {
    "name": "ipython",
    "version": 3
   },
   "file_extension": ".py",
   "mimetype": "text/x-python",
   "name": "python",
   "nbconvert_exporter": "python",
   "pygments_lexer": "ipython3",
   "version": "3.10.10"
  },
  "orig_nbformat": 4
 },
 "nbformat": 4,
 "nbformat_minor": 2
}
