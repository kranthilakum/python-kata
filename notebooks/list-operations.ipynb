{
 "cells": [
  {
   "cell_type": "code",
   "execution_count": 4,
   "id": "cb366553",
   "metadata": {},
   "outputs": [
    {
     "data": {
      "text/plain": [
       "[1, 2, 3]"
      ]
     },
     "execution_count": 4,
     "metadata": {},
     "output_type": "execute_result"
    }
   ],
   "source": [
    "nums = [1,2,3]\n",
    "nums"
   ]
  },
  {
   "cell_type": "code",
   "execution_count": 5,
   "id": "653af453",
   "metadata": {},
   "outputs": [
    {
     "data": {
      "text/plain": [
       "[1, 2, 'aaa']"
      ]
     },
     "execution_count": 5,
     "metadata": {},
     "output_type": "execute_result"
    }
   ],
   "source": [
    "nums = [1, 2, 'aaa'] # list can have multiple types\n",
    "nums"
   ]
  },
  {
   "cell_type": "code",
   "execution_count": 6,
   "id": "d7cf91c2",
   "metadata": {},
   "outputs": [
    {
     "ename": "SyntaxError",
     "evalue": "invalid syntax (1030406954.py, line 1)",
     "output_type": "error",
     "traceback": [
      "\u001b[0;36m  File \u001b[0;32m\"/var/folders/tz/qy857w9x6ll5yntrbhp6trfm0000gn/T/ipykernel_25210/1030406954.py\"\u001b[0;36m, line \u001b[0;32m1\u001b[0m\n\u001b[0;31m    nums = [1, 2, , 'aaa'] # list cannot have holes\u001b[0m\n\u001b[0m                  ^\u001b[0m\n\u001b[0;31mSyntaxError\u001b[0m\u001b[0;31m:\u001b[0m invalid syntax\n"
     ]
    }
   ],
   "source": [
    "nums = [1, 2, , 'aaa'] # list cannot have holes\n",
    "nums"
   ]
  },
  {
   "cell_type": "code",
   "execution_count": 7,
   "id": "d735d4c1",
   "metadata": {},
   "outputs": [
    {
     "data": {
      "text/plain": [
       "[1, 2, None, 'aaa']"
      ]
     },
     "execution_count": 7,
     "metadata": {},
     "output_type": "execute_result"
    }
   ],
   "source": [
    "nums = [1, 2, None, 'aaa']\n",
    "nums"
   ]
  },
  {
   "cell_type": "code",
   "execution_count": 8,
   "id": "19502fb0",
   "metadata": {},
   "outputs": [
    {
     "data": {
      "text/plain": [
       "[1, 2, None, 'aaa', 'bbb', 3]"
      ]
     },
     "execution_count": 8,
     "metadata": {},
     "output_type": "execute_result"
    }
   ],
   "source": [
    "nums = [1, 2, None, 'aaa'] + ['bbb', 3]\n",
    "nums"
   ]
  },
  {
   "cell_type": "code",
   "execution_count": 18,
   "id": "8199ccbb",
   "metadata": {},
   "outputs": [
    {
     "name": "stdout",
     "output_type": "stream",
     "text": [
      "Both lists are equal True\n"
     ]
    }
   ],
   "source": [
    "numsRef = nums # numsRef is not a copy but a reference to nums object\n",
    "numsRef[0] = 'One'\n",
    "nums\n",
    "\n",
    "print('Both lists are equal', numsRef == nums)"
   ]
  },
  {
   "cell_type": "code",
   "execution_count": 37,
   "id": "c95fdde1",
   "metadata": {},
   "outputs": [
    {
     "name": "stdout",
     "output_type": "stream",
     "text": [
      "6, 3, 10, 8.3, 2, 3.2\n",
      "6, Two, 10, 8.3, 2, 3.2\n"
     ]
    }
   ],
   "source": [
    "numsRef = nums[:] # numsRef is a copy of nums\n",
    "numsRef[1] = 'Two'\n",
    "print(*nums, sep=\", \")\n",
    "print(*numsRef, sep=\", \")"
   ]
  },
  {
   "cell_type": "code",
   "execution_count": 20,
   "id": "3f09fb67",
   "metadata": {},
   "outputs": [
    {
     "name": "stdout",
     "output_type": "stream",
     "text": [
      "1\n",
      "2\n",
      "None\n",
      "aaa\n"
     ]
    }
   ],
   "source": [
    "nums = [1, 2, None, 'aaa']\n",
    "for num in nums: print(num)"
   ]
  },
  {
   "cell_type": "code",
   "execution_count": 21,
   "id": "2c58a65d",
   "metadata": {},
   "outputs": [
    {
     "data": {
      "text/plain": [
       "True"
      ]
     },
     "execution_count": 21,
     "metadata": {},
     "output_type": "execute_result"
    }
   ],
   "source": [
    "nums = [1, 2, None, 'aaa']\n",
    "'aaa' in nums"
   ]
  },
  {
   "cell_type": "code",
   "execution_count": 23,
   "id": "ec37eab7",
   "metadata": {},
   "outputs": [
    {
     "data": {
      "text/plain": [
       "[1, 2, None, 'aaa', 'bbb']"
      ]
     },
     "execution_count": 23,
     "metadata": {},
     "output_type": "execute_result"
    }
   ],
   "source": [
    "nums = [1, 2, None, 'aaa']\n",
    "nums.append('bbb') # append adds an element to list\n",
    "# append mutates list\n",
    "# append returns None\n",
    "nums"
   ]
  },
  {
   "cell_type": "code",
   "execution_count": 24,
   "id": "7bdd0a34",
   "metadata": {
    "scrolled": true
   },
   "outputs": [
    {
     "data": {
      "text/plain": [
       "[1, 2, None]"
      ]
     },
     "execution_count": 24,
     "metadata": {},
     "output_type": "execute_result"
    }
   ],
   "source": [
    "nums = [1, 2, None, 'aaa']\n",
    "nums.pop(3) # pop removes an element from list\n",
    "# pop mutates list\n",
    "nums"
   ]
  },
  {
   "cell_type": "code",
   "execution_count": 25,
   "id": "08807f03",
   "metadata": {
    "scrolled": true
   },
   "outputs": [
    {
     "data": {
      "text/plain": [
       "[1, 2, 'aaa']"
      ]
     },
     "execution_count": 25,
     "metadata": {},
     "output_type": "execute_result"
    }
   ],
   "source": [
    "nums = [1, 2, None, 'aaa']\n",
    "del nums[2] # del shrinks the list\n",
    "nums"
   ]
  },
  {
   "cell_type": "code",
   "execution_count": 35,
   "id": "96ec043e",
   "metadata": {},
   "outputs": [
    {
     "name": "stdout",
     "output_type": "stream",
     "text": [
      "2, 3, 3.2, 6, 8.3, 10\n",
      "10, 8.3, 6, 3.2, 3, 2\n"
     ]
    }
   ],
   "source": [
    "nums = [6, 3, 10, 8.3, 2, 3.2]\n",
    "print(*sorted(nums), sep=\", \") # returns a new sorted list\n",
    "# cannot sort if list has different types\n",
    "print(*sorted(nums, reverse=True), sep=\", \")"
   ]
  },
  {
   "cell_type": "code",
   "execution_count": 41,
   "id": "e17acc81",
   "metadata": {},
   "outputs": [
    {
     "data": {
      "text/plain": [
       "['calcium', 'gallium', 'manganese', 'postassium']"
      ]
     },
     "execution_count": 41,
     "metadata": {},
     "output_type": "execute_result"
    }
   ],
   "source": [
    "elements = ['postassium', 'calcium', 'manganese', 'gallium']\n",
    "# sort elements by length (increasing order)\n",
    "\n",
    "# classic technique: two argument comparator function.\n",
    "# comparator compares its two arguments for order.\n",
    "# It decides position of first object relative to second object.\n",
    "# comparator returns negative integer if first argument is less than second.\n",
    "# comparator returns zero if first argument is equal to the second.\n",
    "# comparator returnns a positive integer if first argument is greater than the second.\n",
    "\n",
    "sorted(elements, key=len)\n",
    "# key applies function len on each element and sort happens"
   ]
  },
  {
   "cell_type": "code",
   "execution_count": 43,
   "id": "ae19c14d",
   "metadata": {},
   "outputs": [
    {
     "data": {
      "text/plain": [
       "['manganese', 'postassium', 'oxygen', 'cobalt']"
      ]
     },
     "execution_count": 43,
     "metadata": {},
     "output_type": "execute_result"
    }
   ],
   "source": [
    "elements = ['postassium', 'cobalt', 'manganese', 'oxygen']\n",
    "\n",
    "# sort elements by last character\n",
    "def last(s): return s[-1]\n",
    "\n",
    "sorted(elements, key=last)"
   ]
  },
  {
   "cell_type": "code",
   "execution_count": 56,
   "id": "96768d02",
   "metadata": {},
   "outputs": [
    {
     "data": {
      "text/plain": [
       "['bronze', 'calcite', 'chloride', 'gypsum']"
      ]
     },
     "execution_count": 56,
     "metadata": {},
     "output_type": "execute_result"
    }
   ],
   "source": [
    "elements = ['gypsum', 'bronze', 'calcite', 'chloride']\n",
    "# sorts list by mutating original list\n",
    "elements.sort() # no return value\n",
    "elements\n",
    "# use sorted(), if you a function to return a sorted list instead of causing mutation"
   ]
  },
  {
   "cell_type": "code",
   "execution_count": 47,
   "id": "9316245e",
   "metadata": {},
   "outputs": [
    {
     "name": "stdout",
     "output_type": "stream",
     "text": [
      "ford\n",
      "jeep\n",
      "tesla\n",
      "volvo\n",
      "audi\n",
      "ford:jeep:tesla:volvo:audi\n",
      "ford\n",
      "jeep\n",
      "tesla\n",
      "volvo\n",
      "audi\n"
     ]
    },
    {
     "data": {
      "text/plain": [
       "['ford', 'jeep', 'tesla', 'volvo', 'audi']"
      ]
     },
     "execution_count": 47,
     "metadata": {},
     "output_type": "execute_result"
    }
   ],
   "source": [
    "carModels = [\"ford\", \"jeep\", \"tesla\", \"volvo\", \"audi\"]\n",
    "# print list elements\n",
    "for model in carModels: print(model)\n",
    "print(':'.join(carModels))\n",
    "print('\\n'.join(carModels))\n",
    "carModelString = '-'.join(carModels)\n",
    "carModelString.split('-')"
   ]
  },
  {
   "cell_type": "code",
   "execution_count": 50,
   "id": "22d09fa6",
   "metadata": {},
   "outputs": [
    {
     "data": {
      "text/plain": [
       "['doc1', 'doc2', 'doc3']"
      ]
     },
     "execution_count": 50,
     "metadata": {},
     "output_type": "execute_result"
    }
   ],
   "source": [
    "docs = ['doc1', 'doc2', 'doc3']\n",
    "result = []\n",
    "for s in docs: result.append(s)\n",
    "result # copy docs to result"
   ]
  },
  {
   "cell_type": "code",
   "execution_count": 51,
   "id": "f50db2b9",
   "metadata": {},
   "outputs": [
    {
     "data": {
      "text/plain": [
       "['doc1', 'doc2', 'doc3']"
      ]
     },
     "execution_count": 51,
     "metadata": {},
     "output_type": "execute_result"
    }
   ],
   "source": [
    "docs = ['doc1', 'doc2', 'doc3']\n",
    "result = docs.copy() # assign copy of docs\n",
    "result"
   ]
  },
  {
   "cell_type": "code",
   "execution_count": 58,
   "id": "056c3d53",
   "metadata": {},
   "outputs": [
    {
     "name": "stdout",
     "output_type": "stream",
     "text": [
      "0\n",
      "1\n",
      "2\n",
      "3\n",
      "4\n"
     ]
    }
   ],
   "source": [
    "# range - on-the-fly builds a list\n",
    "for i in range(5): print(i)"
   ]
  },
  {
   "cell_type": "markdown",
   "id": "205f2edb",
   "metadata": {},
   "source": [
    "### DO NOT modify a loop while it is looping!"
   ]
  },
  {
   "cell_type": "code",
   "execution_count": 59,
   "id": "1e8c88b3",
   "metadata": {},
   "outputs": [
    {
     "data": {
      "text/plain": [
       "(1, 2, 3, 'AAA')"
      ]
     },
     "execution_count": 59,
     "metadata": {},
     "output_type": "execute_result"
    }
   ],
   "source": [
    "# List can grow and shrink. Tuple is of fixed size.\n",
    "# store multiple items in a single variable\n",
    "# similar to List, but Tuple is Immutable\n",
    "x = (1, 2, 3, \"AAA\")\n",
    "x"
   ]
  },
  {
   "cell_type": "code",
   "execution_count": 60,
   "id": "e53fdc9c",
   "metadata": {},
   "outputs": [
    {
     "data": {
      "text/plain": [
       "[(1, 'a'), (1, 'b'), (2, 'a')]"
      ]
     },
     "execution_count": 60,
     "metadata": {},
     "output_type": "execute_result"
    }
   ],
   "source": [
    "# List of Tuples\n",
    "a = [(1, 'b'), (2, 'a'), (1, 'a')]\n",
    "sorted(a)"
   ]
  },
  {
   "cell_type": "code",
   "execution_count": 66,
   "id": "938efcb9",
   "metadata": {},
   "outputs": [
    {
     "name": "stdout",
     "output_type": "stream",
     "text": [
      "x: 1 and y: 2\n"
     ]
    }
   ],
   "source": [
    "# Parallel assignment using Tuple\n",
    "(x, y) = (1, 2)\n",
    "print('x: %s and y: %s' % (x, y))"
   ]
  },
  {
   "cell_type": "code",
   "execution_count": 80,
   "id": "6cd79a0d",
   "metadata": {},
   "outputs": [
    {
     "name": "stdout",
     "output_type": "stream",
     "text": [
      "[2, 4, 6]\n",
      "[12, 14, 16]\n"
     ]
    }
   ],
   "source": [
    "# Normal loop\n",
    "# for a given list, return a list with even numbers\n",
    "def evens(inputList):\n",
    "    resultList = []\n",
    "    for element in inputList:\n",
    "        if element % 2 == 0:\n",
    "            resultList.append(element)\n",
    "    return resultList\n",
    "print(evens([1, 2, 3, 4, 5, 6, 7]))\n",
    "\n",
    "# List comprehension\n",
    "# list comprehension may or may not contain an if condition. \n",
    "# List comprehensions can contain multiple for (nested list comprehensions)\n",
    "def evens(inputList):\n",
    "    return [element for element in inputList if element %2 == 0]\n",
    "print(evens([11, 12, 13, 14, 15, 16, 17]))"
   ]
  },
  {
   "cell_type": "code",
   "execution_count": 81,
   "id": "a6c3ceed",
   "metadata": {},
   "outputs": [
    {
     "data": {
      "text/plain": [
       "[441, 484, 529, 576, 625]"
      ]
     },
     "execution_count": 81,
     "metadata": {},
     "output_type": "execute_result"
    }
   ],
   "source": [
    "# for a given list of numbers, return square of element\n",
    "def squareList(inputList):\n",
    "    return [element**2 for element in inputList]\n",
    "squareList([21, 22, 23, 24, 25])"
   ]
  },
  {
   "cell_type": "code",
   "execution_count": 84,
   "id": "116fefe2",
   "metadata": {},
   "outputs": [
    {
     "name": "stdout",
     "output_type": "stream",
     "text": [
      "[3, 5, 4, 4, 6, 7, 6]\n",
      "[3, 4, 2, 1]\n"
     ]
    }
   ],
   "source": [
    "def lengths(inputList):\n",
    "    return [len(element) for element in inputList]\n",
    "\n",
    "print(lengths(['red', 'green', 'blue', 'cyan', 'yellow', 'magenta', 'purple']))\n",
    "print(lengths([[1, 2, 3], [34, 13, 31, 123], [123, 32], [123]]))"
   ]
  },
  {
   "cell_type": "code",
   "execution_count": 92,
   "id": "d7cf037c",
   "metadata": {},
   "outputs": [
    {
     "name": "stdout",
     "output_type": "stream",
     "text": [
      "list of files in directory\n",
      "type of files:  <class 'list'>\n",
      "isinstance of list ?:  False\n"
     ]
    }
   ],
   "source": [
    "import os\n",
    "\n",
    "files = os.listdir('.')\n",
    "print('list of files in directory',)\n",
    "print('type of files: ', type(files))\n",
    "print('isinstance of list ?: ', isinstance(list, list))"
   ]
  },
  {
   "cell_type": "code",
   "execution_count": null,
   "id": "6f98313b",
   "metadata": {},
   "outputs": [],
   "source": [
    "# match_ends\n",
    "# Given a list of strings, return the count of the number of\n",
    "# strings where the string length is 2 or more and the first\n",
    "# and last chars of the string are the same.\n",
    "# Note: python does not have a ++ operator, but += works.\n",
    "\n",
    "def match_ends(words):\n",
    "  # +++your code here+++\n",
    "  return\n",
    "\n",
    "match_ends([\"aba\", \"xyz\", \"abc\", 'aa', 'x', 'bbb'])"
   ]
  },
  {
   "cell_type": "code",
   "execution_count": null,
   "id": "7998c07c",
   "metadata": {},
   "outputs": [],
   "source": [
    "# front_x\n",
    "# Given a list of strings, return a list with the strings\n",
    "# in sorted order, except group all the strings that begin with 'x' first.\n",
    "# e.g. ['mix', 'xyz', 'apple', 'xanadu', 'aardvark'] yields\n",
    "# ['xanadu', 'xyz', 'aardvark', 'apple', 'mix']\n",
    "# Hint: this can be done by making 2 lists and sorting each of them\n",
    "# before combining them.\n",
    "\n",
    "def front_x(words):\n",
    "  # +++your code here+++\n",
    "  return\n",
    "\n",
    "front_x(['bbb', 'ccc', 'axx', 'xzz', 'xaa'])"
   ]
  },
  {
   "cell_type": "code",
   "execution_count": null,
   "id": "52c12c3b",
   "metadata": {},
   "outputs": [],
   "source": [
    "# sort_last\n",
    "# Given a list of non-empty tuples, return a list sorted in increasing\n",
    "# order by the last element in each tuple.\n",
    "# e.g. [(1, 7), (1, 3), (3, 4, 5), (2, 2)] yields\n",
    "# [(2, 2), (1, 3), (3, 4, 5), (1, 7)]\n",
    "# Hint: use a custom key= function to extract the last element form each tuple.\n",
    "def sort_last(tuples):\n",
    "  # +++your code here+++\n",
    "  return\n",
    "\n",
    "sort_last([(1,3), (3,2), (2,1)])"
   ]
  },
  {
   "cell_type": "code",
   "execution_count": null,
   "id": "7546688d",
   "metadata": {},
   "outputs": [],
   "source": [
    "# Given a list of numbers, return a list where\n",
    "# all adjacent == elements have been reduced to a single element,\n",
    "# so [1, 2, 2, 3] returns [1, 2, 3]. You may create a new list or\n",
    "# modify the passed in list.\n",
    "\n",
    "def remove_adjacent(nums):\n",
    "  # +++your code here+++\n",
    "  return\n",
    "\n",
    "remove_adjacent([1,2,2,3])"
   ]
  },
  {
   "cell_type": "code",
   "execution_count": null,
   "id": "4b626e23",
   "metadata": {},
   "outputs": [],
   "source": [
    "# Given two lists sorted in increasing order, create and return a merged\n",
    "# list of all the elements in sorted order. You may modify the passed in lists.\n",
    "# Ideally, the solution should work in \"linear\" time, making a single\n",
    "# pass of both lists.\n",
    "\n",
    "def linear_merge(list1, list2):\n",
    "  # +++your code here+++\n",
    "  return\n",
    "\n",
    "linear_merge(['aa', 'xx', 'zz'], ['bb', 'cc'])"
   ]
  }
 ],
 "metadata": {
  "kernelspec": {
   "display_name": "Python 3 (ipykernel)",
   "language": "python",
   "name": "python3"
  },
  "language_info": {
   "codemirror_mode": {
    "name": "ipython",
    "version": 3
   },
   "file_extension": ".py",
   "mimetype": "text/x-python",
   "name": "python",
   "nbconvert_exporter": "python",
   "pygments_lexer": "ipython3",
   "version": "3.9.7"
  }
 },
 "nbformat": 4,
 "nbformat_minor": 5
}
